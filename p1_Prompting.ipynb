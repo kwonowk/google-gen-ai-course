{
 "cells": [
  {
   "cell_type": "markdown",
   "metadata": {
    "id": "jkxRSYjzA1oX"
   },
   "source": [
    "##### Copyright 2024 Google LLC."
   ]
  },
  {
   "cell_type": "markdown",
   "metadata": {
    "cellView": "form",
    "execution": {
     "iopub.execute_input": "2024-11-13T10:05:21.694231Z",
     "iopub.status.busy": "2024-11-13T10:05:21.693311Z",
     "iopub.status.idle": "2024-11-13T10:05:21.718369Z",
     "shell.execute_reply": "2024-11-13T10:05:21.717194Z",
     "shell.execute_reply.started": "2024-11-13T10:05:21.694187Z"
    },
    "id": "5u5OZ2ShA3BA",
    "jupyter": {
     "source_hidden": true
    },
    "trusted": true
   },
   "source": [
    "@title Licensed under the Apache License, Version 2.0 (the \"License\");\n",
    "you may not use this file except in compliance with the License.\n",
    "You may obtain a copy of the License at\n",
    "\n",
    "https://www.apache.org/licenses/LICENSE-2.0\n",
    "\n",
    "Unless required by applicable law or agreed to in writing, software\n",
    "distributed under the License is distributed on an \"AS IS\" BASIS,\n",
    "WITHOUT WARRANTIES OR CONDITIONS OF ANY KIND, either express or implied.\n",
    "See the License for the specific language governing permissions and\n",
    "limitations under the License."
   ]
  },
  {
   "cell_type": "markdown",
   "metadata": {
    "id": "csNPnkuCobmG"
   },
   "source": [
    "# Day 1 - Prompting\n",
    "\n",
    "Welcome to the Kaggle 5-day Generative AI course!\n",
    "\n",
    "This notebook will show you how to get started with the Gemini API and walk you through some of the example prompts and techniques that you can also read about in the Prompting whitepaper. You don't need to read the whitepaper to use this notebook, but the papers will give you some theoretical context and background to complement this interactive notebook.\n",
    "\n",
    "\n",
    "## Before you begin\n",
    "\n",
    "In this notebook, you'll start exploring prompts and prompt parameters using the Python SDK and AI Studio. For some inspiration, you might enjoy exploring some apps that have been built using the Gemini family of models. Here are a few that we like, and we think you will too.\n",
    "\n",
    "* [TextFX](https://textfx.withgoogle.com/) is a suite of AI-powered tools for rappers, made in collaboration with Lupe Fiasco,\n",
    "* [SQL Talk](https://sql-talk-r5gdynozbq-uc.a.run.app/) shows how you can talk directly to a database using the Gemini API,\n",
    "* [NotebookLM](https://notebooklm.google/) uses Gemini models to build your own personal AI research assistant.\n",
    "\n",
    "\n",
    "## For help\n",
    "\n",
    "**Common issues are covered in the [FAQ and troubleshooting guide](https://www.kaggle.com/code/markishere/day-0-troubleshooting-and-faqs).**\n",
    "\n",
    "### A note on the Gemini API and Vertex AI\n",
    "\n",
    "In the whitepapers, most of the example code uses the Enterprise [Vertex AI platform](https://cloud.google.com/vertex-ai). In contrast, this notebook, along with the others in this series, will use the [Gemini Developer API](https://ai.google.dev/gemini-api/) and [AI Studio](https://aistudio.google.com/).\n",
    "\n",
    "Both APIs provide access to the Gemini family of models, and the code to interact with the models is very similar. Vertex provides a world-class platform for enterprises, governments and advanced users that need powerful features like data governance, ML ops and deep Google Cloud integration.\n",
    "\n",
    "AI Studio is free to use and only requires a compatible Google account to log in and get started. It is deeply integrated with the Gemini API, which comes with a generous [free tier](https://ai.google.dev/pricing) that you can use to run the code in these exercises.\n",
    "\n",
    "If you are already set up with Google Cloud, you can check out the [Enterprise Gemini API](https://cloud.google.com/vertex-ai/generative-ai/docs/model-reference/inference) through Vertex AI, and run the samples directly from the supplied whitepapers."
   ]
  },
  {
   "cell_type": "markdown",
   "metadata": {
    "id": "UAjUV3BsvFXQ"
   },
   "source": [
    "### Install the SDK"
   ]
  },
  {
   "cell_type": "code",
   "execution_count": 1,
   "metadata": {
    "execution": {
     "iopub.execute_input": "2024-11-14T10:09:52.461181Z",
     "iopub.status.busy": "2024-11-14T10:09:52.460777Z",
     "iopub.status.idle": "2024-11-14T10:10:22.178811Z",
     "shell.execute_reply": "2024-11-14T10:10:22.177337Z",
     "shell.execute_reply.started": "2024-11-14T10:09:52.461142Z"
    },
    "id": "NzwzJFU9LqkJ",
    "trusted": true
   },
   "outputs": [
    {
     "name": "stdout",
     "output_type": "stream",
     "text": [
      "Note: you may need to restart the kernel to use updated packages.\n"
     ]
    }
   ],
   "source": [
    "%pip install -U -q \"google-generativeai>=0.8.3\""
   ]
  },
  {
   "cell_type": "code",
   "execution_count": 2,
   "metadata": {
    "execution": {
     "iopub.execute_input": "2024-11-14T10:10:22.181761Z",
     "iopub.status.busy": "2024-11-14T10:10:22.181376Z",
     "iopub.status.idle": "2024-11-14T10:10:23.390039Z",
     "shell.execute_reply": "2024-11-14T10:10:23.388887Z",
     "shell.execute_reply.started": "2024-11-14T10:10:22.181721Z"
    },
    "id": "5DwxYIRavMST",
    "trusted": true
   },
   "outputs": [],
   "source": [
    "import google.generativeai as genai\n",
    "from IPython.display import HTML, Markdown, display\n",
    "from env import *\n",
    "\n",
    "%load_ext autoreload\n",
    "%autoreload 2"
   ]
  },
  {
   "cell_type": "markdown",
   "metadata": {
    "id": "DNEt2BCOvOJ1"
   },
   "source": [
    "### Set up API key\n"
   ]
  },
  {
   "cell_type": "code",
   "execution_count": 3,
   "metadata": {
    "execution": {
     "iopub.execute_input": "2024-11-14T10:10:27.542753Z",
     "iopub.status.busy": "2024-11-14T10:10:27.541960Z",
     "iopub.status.idle": "2024-11-14T10:10:27.750350Z",
     "shell.execute_reply": "2024-11-14T10:10:27.749082Z",
     "shell.execute_reply.started": "2024-11-14T10:10:27.542711Z"
    },
    "id": "SHl0bkPCvayd",
    "trusted": true
   },
   "outputs": [],
   "source": [
    "GOOGLE_API_KEY = GOOGLE_API_KEY\n",
    "genai.configure(api_key=GOOGLE_API_KEY)"
   ]
  },
  {
   "cell_type": "markdown",
   "metadata": {},
   "source": [
    "### List of available models"
   ]
  },
  {
   "cell_type": "code",
   "execution_count": null,
   "metadata": {},
   "outputs": [
    {
     "name": "stdout",
     "output_type": "stream",
     "text": [
      "models/chat-bison-001\n",
      "models/text-bison-001\n",
      "models/embedding-gecko-001\n",
      "models/gemini-1.0-pro-latest\n",
      "models/gemini-1.0-pro\n",
      "models/gemini-pro\n",
      "models/gemini-1.0-pro-001\n",
      "models/gemini-1.0-pro-vision-latest\n",
      "models/gemini-pro-vision\n",
      "models/gemini-1.5-pro-latest\n",
      "models/gemini-1.5-pro-001\n",
      "models/gemini-1.5-pro-002\n",
      "models/gemini-1.5-pro\n",
      "models/gemini-1.5-pro-exp-0801\n",
      "models/gemini-1.5-pro-exp-0827\n",
      "models/gemini-1.5-flash-latest\n",
      "models/gemini-1.5-flash-001\n",
      "models/gemini-1.5-flash-001-tuning\n",
      "models/gemini-1.5-flash\n",
      "models/gemini-1.5-flash-exp-0827\n",
      "models/gemini-1.5-flash-002\n",
      "models/gemini-1.5-flash-8b\n",
      "models/gemini-1.5-flash-8b-001\n",
      "models/gemini-1.5-flash-8b-latest\n",
      "models/gemini-1.5-flash-8b-exp-0827\n",
      "models/gemini-1.5-flash-8b-exp-0924\n",
      "models/learnlm-1.5-pro-experimental\n",
      "models/gemini-exp-1114\n",
      "models/embedding-001\n",
      "models/text-embedding-004\n",
      "models/aqa\n"
     ]
    }
   ],
   "source": [
    "# Retrieving the names of available models\n",
    "for model in genai.list_models():\n",
    "    print(model.name)"
   ]
  },
  {
   "cell_type": "code",
   "execution_count": null,
   "metadata": {},
   "outputs": [
    {
     "data": {
      "text/html": [
       "<div>\n",
       "<style scoped>\n",
       "    .dataframe tbody tr th:only-of-type {\n",
       "        vertical-align: middle;\n",
       "    }\n",
       "\n",
       "    .dataframe tbody tr th {\n",
       "        vertical-align: top;\n",
       "    }\n",
       "\n",
       "    .dataframe thead th {\n",
       "        text-align: right;\n",
       "    }\n",
       "</style>\n",
       "<table border=\"1\" class=\"dataframe\">\n",
       "  <thead>\n",
       "    <tr style=\"text-align: right;\">\n",
       "      <th></th>\n",
       "      <th>name</th>\n",
       "      <th>version</th>\n",
       "      <th>display_name</th>\n",
       "      <th>description</th>\n",
       "      <th>input_token_limit</th>\n",
       "      <th>output_token_limit</th>\n",
       "      <th>supported_generation_methods</th>\n",
       "      <th>temperature</th>\n",
       "      <th>max_temperature</th>\n",
       "      <th>top_p</th>\n",
       "      <th>top_k</th>\n",
       "    </tr>\n",
       "  </thead>\n",
       "  <tbody>\n",
       "    <tr>\n",
       "      <th>0</th>\n",
       "      <td>'models/chat-bison-001'</td>\n",
       "      <td>'001'</td>\n",
       "      <td>'PaLM 2 Chat (Legacy)'</td>\n",
       "      <td>'A legacy text-only model optimized for chat c...</td>\n",
       "      <td>4096</td>\n",
       "      <td>1024</td>\n",
       "      <td>['generateMessage', 'countMessageTokens']</td>\n",
       "      <td>0.25</td>\n",
       "      <td>None</td>\n",
       "      <td>0.95</td>\n",
       "      <td>40</td>\n",
       "    </tr>\n",
       "    <tr>\n",
       "      <th>1</th>\n",
       "      <td>'models/text-bison-001'</td>\n",
       "      <td>'001'</td>\n",
       "      <td>'PaLM 2 (Legacy)'</td>\n",
       "      <td>'A legacy model that understands text and gene...</td>\n",
       "      <td>8196</td>\n",
       "      <td>1024</td>\n",
       "      <td>['generateText', 'countTextTokens', 'createTun...</td>\n",
       "      <td>0.7</td>\n",
       "      <td>None</td>\n",
       "      <td>0.95</td>\n",
       "      <td>40</td>\n",
       "    </tr>\n",
       "    <tr>\n",
       "      <th>2</th>\n",
       "      <td>'models/embedding-gecko-001'</td>\n",
       "      <td>'001'</td>\n",
       "      <td>'Embedding Gecko'</td>\n",
       "      <td>'Obtain a distributed representation of a text.'</td>\n",
       "      <td>1024</td>\n",
       "      <td>1</td>\n",
       "      <td>['embedText', 'countTextTokens']</td>\n",
       "      <td>None</td>\n",
       "      <td>None</td>\n",
       "      <td>None</td>\n",
       "      <td>None</td>\n",
       "    </tr>\n",
       "    <tr>\n",
       "      <th>3</th>\n",
       "      <td>'models/gemini-1.0-pro-latest'</td>\n",
       "      <td>'001'</td>\n",
       "      <td>'Gemini 1.0 Pro Latest'</td>\n",
       "      <td>NaN</td>\n",
       "      <td>30720</td>\n",
       "      <td>2048</td>\n",
       "      <td>['generateContent', 'countTokens']</td>\n",
       "      <td>0.9</td>\n",
       "      <td>None</td>\n",
       "      <td>1.0</td>\n",
       "      <td>None</td>\n",
       "    </tr>\n",
       "    <tr>\n",
       "      <th>4</th>\n",
       "      <td>'models/gemini-1.0-pro'</td>\n",
       "      <td>'001'</td>\n",
       "      <td>'Gemini 1.0 Pro'</td>\n",
       "      <td>'The best model for scaling across a wide rang...</td>\n",
       "      <td>30720</td>\n",
       "      <td>2048</td>\n",
       "      <td>['generateContent', 'countTokens']</td>\n",
       "      <td>0.9</td>\n",
       "      <td>None</td>\n",
       "      <td>1.0</td>\n",
       "      <td>None</td>\n",
       "    </tr>\n",
       "    <tr>\n",
       "      <th>5</th>\n",
       "      <td>'models/gemini-pro'</td>\n",
       "      <td>'001'</td>\n",
       "      <td>'Gemini 1.0 Pro'</td>\n",
       "      <td>'The best model for scaling across a wide rang...</td>\n",
       "      <td>30720</td>\n",
       "      <td>2048</td>\n",
       "      <td>['generateContent', 'countTokens']</td>\n",
       "      <td>0.9</td>\n",
       "      <td>None</td>\n",
       "      <td>1.0</td>\n",
       "      <td>None</td>\n",
       "    </tr>\n",
       "    <tr>\n",
       "      <th>6</th>\n",
       "      <td>'models/gemini-1.0-pro-001'</td>\n",
       "      <td>'001'</td>\n",
       "      <td>'Gemini 1.0 Pro 001 (Tuning)'</td>\n",
       "      <td>NaN</td>\n",
       "      <td>30720</td>\n",
       "      <td>2048</td>\n",
       "      <td>['generateContent', 'countTokens', 'createTune...</td>\n",
       "      <td>0.9</td>\n",
       "      <td>None</td>\n",
       "      <td>1.0</td>\n",
       "      <td>None</td>\n",
       "    </tr>\n",
       "    <tr>\n",
       "      <th>7</th>\n",
       "      <td>'models/gemini-1.0-pro-vision-latest'</td>\n",
       "      <td>'001'</td>\n",
       "      <td>'Gemini 1.0 Pro Vision'</td>\n",
       "      <td>NaN</td>\n",
       "      <td>12288</td>\n",
       "      <td>4096</td>\n",
       "      <td>['generateContent', 'countTokens']</td>\n",
       "      <td>0.4</td>\n",
       "      <td>None</td>\n",
       "      <td>1.0</td>\n",
       "      <td>32</td>\n",
       "    </tr>\n",
       "    <tr>\n",
       "      <th>8</th>\n",
       "      <td>'models/gemini-pro-vision'</td>\n",
       "      <td>'001'</td>\n",
       "      <td>'Gemini 1.0 Pro Vision'</td>\n",
       "      <td>NaN</td>\n",
       "      <td>12288</td>\n",
       "      <td>4096</td>\n",
       "      <td>['generateContent', 'countTokens']</td>\n",
       "      <td>0.4</td>\n",
       "      <td>None</td>\n",
       "      <td>1.0</td>\n",
       "      <td>32</td>\n",
       "    </tr>\n",
       "    <tr>\n",
       "      <th>9</th>\n",
       "      <td>'models/gemini-1.5-pro-latest'</td>\n",
       "      <td>'001'</td>\n",
       "      <td>'Gemini 1.5 Pro Latest'</td>\n",
       "      <td>NaN</td>\n",
       "      <td>2000000</td>\n",
       "      <td>8192</td>\n",
       "      <td>['generateContent', 'countTokens']</td>\n",
       "      <td>1.0</td>\n",
       "      <td>2.0</td>\n",
       "      <td>0.95</td>\n",
       "      <td>40</td>\n",
       "    </tr>\n",
       "    <tr>\n",
       "      <th>10</th>\n",
       "      <td>'models/gemini-1.5-pro-001'</td>\n",
       "      <td>'001'</td>\n",
       "      <td>'Gemini 1.5 Pro 001'</td>\n",
       "      <td>NaN</td>\n",
       "      <td>2000000</td>\n",
       "      <td>8192</td>\n",
       "      <td>['generateContent', 'countTokens', 'createCach...</td>\n",
       "      <td>1.0</td>\n",
       "      <td>2.0</td>\n",
       "      <td>0.95</td>\n",
       "      <td>64</td>\n",
       "    </tr>\n",
       "    <tr>\n",
       "      <th>11</th>\n",
       "      <td>'models/gemini-1.5-pro-002'</td>\n",
       "      <td>'002'</td>\n",
       "      <td>'Gemini 1.5 Pro 002'</td>\n",
       "      <td>NaN</td>\n",
       "      <td>2000000</td>\n",
       "      <td>8192</td>\n",
       "      <td>['generateContent', 'countTokens', 'createCach...</td>\n",
       "      <td>1.0</td>\n",
       "      <td>2.0</td>\n",
       "      <td>0.95</td>\n",
       "      <td>40</td>\n",
       "    </tr>\n",
       "    <tr>\n",
       "      <th>12</th>\n",
       "      <td>'models/gemini-1.5-pro'</td>\n",
       "      <td>'001'</td>\n",
       "      <td>'Gemini 1.5 Pro'</td>\n",
       "      <td>NaN</td>\n",
       "      <td>2000000</td>\n",
       "      <td>8192</td>\n",
       "      <td>['generateContent', 'countTokens']</td>\n",
       "      <td>1.0</td>\n",
       "      <td>2.0</td>\n",
       "      <td>0.95</td>\n",
       "      <td>40</td>\n",
       "    </tr>\n",
       "    <tr>\n",
       "      <th>13</th>\n",
       "      <td>'models/gemini-1.5-pro-exp-0801'</td>\n",
       "      <td>'exp-0801'</td>\n",
       "      <td>'Gemini 1.5 Pro Experimental 0801'</td>\n",
       "      <td>NaN</td>\n",
       "      <td>2000000</td>\n",
       "      <td>8192</td>\n",
       "      <td>['generateContent', 'countTokens']</td>\n",
       "      <td>1.0</td>\n",
       "      <td>2.0</td>\n",
       "      <td>0.95</td>\n",
       "      <td>64</td>\n",
       "    </tr>\n",
       "    <tr>\n",
       "      <th>14</th>\n",
       "      <td>'models/gemini-1.5-pro-exp-0827'</td>\n",
       "      <td>'exp-0827'</td>\n",
       "      <td>'Gemini 1.5 Pro Experimental 0827'</td>\n",
       "      <td>NaN</td>\n",
       "      <td>2000000</td>\n",
       "      <td>8192</td>\n",
       "      <td>['generateContent', 'countTokens']</td>\n",
       "      <td>1.0</td>\n",
       "      <td>2.0</td>\n",
       "      <td>0.95</td>\n",
       "      <td>64</td>\n",
       "    </tr>\n",
       "    <tr>\n",
       "      <th>15</th>\n",
       "      <td>'models/gemini-1.5-flash-latest'</td>\n",
       "      <td>'001'</td>\n",
       "      <td>'Gemini 1.5 Flash Latest'</td>\n",
       "      <td>NaN</td>\n",
       "      <td>1000000</td>\n",
       "      <td>8192</td>\n",
       "      <td>['generateContent', 'countTokens']</td>\n",
       "      <td>1.0</td>\n",
       "      <td>2.0</td>\n",
       "      <td>0.95</td>\n",
       "      <td>40</td>\n",
       "    </tr>\n",
       "    <tr>\n",
       "      <th>16</th>\n",
       "      <td>'models/gemini-1.5-flash-001'</td>\n",
       "      <td>'001'</td>\n",
       "      <td>'Gemini 1.5 Flash 001'</td>\n",
       "      <td>NaN</td>\n",
       "      <td>1000000</td>\n",
       "      <td>8192</td>\n",
       "      <td>['generateContent', 'countTokens', 'createCach...</td>\n",
       "      <td>1.0</td>\n",
       "      <td>2.0</td>\n",
       "      <td>0.95</td>\n",
       "      <td>64</td>\n",
       "    </tr>\n",
       "    <tr>\n",
       "      <th>17</th>\n",
       "      <td>'models/gemini-1.5-flash-001-tuning'</td>\n",
       "      <td>'001'</td>\n",
       "      <td>'Gemini 1.5 Flash 001 Tuning'</td>\n",
       "      <td>NaN</td>\n",
       "      <td>16384</td>\n",
       "      <td>8192</td>\n",
       "      <td>['generateContent', 'countTokens', 'createTune...</td>\n",
       "      <td>1.0</td>\n",
       "      <td>2.0</td>\n",
       "      <td>0.95</td>\n",
       "      <td>64</td>\n",
       "    </tr>\n",
       "    <tr>\n",
       "      <th>18</th>\n",
       "      <td>'models/gemini-1.5-flash'</td>\n",
       "      <td>'001'</td>\n",
       "      <td>'Gemini 1.5 Flash'</td>\n",
       "      <td>NaN</td>\n",
       "      <td>1000000</td>\n",
       "      <td>8192</td>\n",
       "      <td>['generateContent', 'countTokens']</td>\n",
       "      <td>1.0</td>\n",
       "      <td>2.0</td>\n",
       "      <td>0.95</td>\n",
       "      <td>40</td>\n",
       "    </tr>\n",
       "    <tr>\n",
       "      <th>19</th>\n",
       "      <td>'models/gemini-1.5-flash-exp-0827'</td>\n",
       "      <td>'exp-0827'</td>\n",
       "      <td>'Gemini 1.5 Flash Experimental 0827'</td>\n",
       "      <td>NaN</td>\n",
       "      <td>1000000</td>\n",
       "      <td>8192</td>\n",
       "      <td>['generateContent', 'countTokens']</td>\n",
       "      <td>1.0</td>\n",
       "      <td>2.0</td>\n",
       "      <td>0.95</td>\n",
       "      <td>64</td>\n",
       "    </tr>\n",
       "    <tr>\n",
       "      <th>20</th>\n",
       "      <td>'models/gemini-1.5-flash-002'</td>\n",
       "      <td>'002'</td>\n",
       "      <td>'Gemini 1.5 Flash 002'</td>\n",
       "      <td>NaN</td>\n",
       "      <td>1000000</td>\n",
       "      <td>8192</td>\n",
       "      <td>['generateContent', 'countTokens', 'createCach...</td>\n",
       "      <td>1.0</td>\n",
       "      <td>2.0</td>\n",
       "      <td>0.95</td>\n",
       "      <td>40</td>\n",
       "    </tr>\n",
       "    <tr>\n",
       "      <th>21</th>\n",
       "      <td>'models/gemini-1.5-flash-8b'</td>\n",
       "      <td>'001'</td>\n",
       "      <td>'Gemini 1.5 Flash-8B'</td>\n",
       "      <td>NaN</td>\n",
       "      <td>1000000</td>\n",
       "      <td>8192</td>\n",
       "      <td>['createCachedContent', 'generateContent', 'co...</td>\n",
       "      <td>1.0</td>\n",
       "      <td>2.0</td>\n",
       "      <td>0.95</td>\n",
       "      <td>40</td>\n",
       "    </tr>\n",
       "    <tr>\n",
       "      <th>22</th>\n",
       "      <td>'models/gemini-1.5-flash-8b-001'</td>\n",
       "      <td>'001'</td>\n",
       "      <td>'Gemini 1.5 Flash-8B 001'</td>\n",
       "      <td>NaN</td>\n",
       "      <td>1000000</td>\n",
       "      <td>8192</td>\n",
       "      <td>['createCachedContent', 'generateContent', 'co...</td>\n",
       "      <td>1.0</td>\n",
       "      <td>2.0</td>\n",
       "      <td>0.95</td>\n",
       "      <td>40</td>\n",
       "    </tr>\n",
       "    <tr>\n",
       "      <th>23</th>\n",
       "      <td>'models/gemini-1.5-flash-8b-latest'</td>\n",
       "      <td>'001'</td>\n",
       "      <td>'Gemini 1.5 Flash-8B Latest'</td>\n",
       "      <td>NaN</td>\n",
       "      <td>1000000</td>\n",
       "      <td>8192</td>\n",
       "      <td>['createCachedContent', 'generateContent', 'co...</td>\n",
       "      <td>1.0</td>\n",
       "      <td>2.0</td>\n",
       "      <td>0.95</td>\n",
       "      <td>40</td>\n",
       "    </tr>\n",
       "    <tr>\n",
       "      <th>24</th>\n",
       "      <td>'models/gemini-1.5-flash-8b-exp-0827'</td>\n",
       "      <td>'001'</td>\n",
       "      <td>'Gemini 1.5 Flash 8B Experimental 0827'</td>\n",
       "      <td>NaN</td>\n",
       "      <td>1000000</td>\n",
       "      <td>8192</td>\n",
       "      <td>['generateContent', 'countTokens']</td>\n",
       "      <td>1.0</td>\n",
       "      <td>2.0</td>\n",
       "      <td>0.95</td>\n",
       "      <td>40</td>\n",
       "    </tr>\n",
       "    <tr>\n",
       "      <th>25</th>\n",
       "      <td>'models/gemini-1.5-flash-8b-exp-0924'</td>\n",
       "      <td>'001'</td>\n",
       "      <td>'Gemini 1.5 Flash 8B Experimental 0924'</td>\n",
       "      <td>NaN</td>\n",
       "      <td>1000000</td>\n",
       "      <td>8192</td>\n",
       "      <td>['generateContent', 'countTokens']</td>\n",
       "      <td>1.0</td>\n",
       "      <td>2.0</td>\n",
       "      <td>0.95</td>\n",
       "      <td>40</td>\n",
       "    </tr>\n",
       "    <tr>\n",
       "      <th>26</th>\n",
       "      <td>'models/learnlm-1.5-pro-experimental'</td>\n",
       "      <td>'001'</td>\n",
       "      <td>'LearnLM 1.5 Pro Experimental'</td>\n",
       "      <td>NaN</td>\n",
       "      <td>32767</td>\n",
       "      <td>8192</td>\n",
       "      <td>['generateContent', 'countTokens']</td>\n",
       "      <td>1.0</td>\n",
       "      <td>2.0</td>\n",
       "      <td>0.95</td>\n",
       "      <td>64</td>\n",
       "    </tr>\n",
       "    <tr>\n",
       "      <th>27</th>\n",
       "      <td>'models/gemini-exp-1114'</td>\n",
       "      <td>'exp-1114'</td>\n",
       "      <td>'Gemini Experimental 1114'</td>\n",
       "      <td>'Experimental release (November 11th, 2024) of...</td>\n",
       "      <td>32767</td>\n",
       "      <td>8192</td>\n",
       "      <td>['generateContent', 'countTokens']</td>\n",
       "      <td>1.0</td>\n",
       "      <td>2.0</td>\n",
       "      <td>0.95</td>\n",
       "      <td>64</td>\n",
       "    </tr>\n",
       "    <tr>\n",
       "      <th>28</th>\n",
       "      <td>'models/embedding-001'</td>\n",
       "      <td>'001'</td>\n",
       "      <td>'Embedding 001'</td>\n",
       "      <td>'Obtain a distributed representation of a text.'</td>\n",
       "      <td>2048</td>\n",
       "      <td>1</td>\n",
       "      <td>['embedContent']</td>\n",
       "      <td>None</td>\n",
       "      <td>None</td>\n",
       "      <td>None</td>\n",
       "      <td>None</td>\n",
       "    </tr>\n",
       "    <tr>\n",
       "      <th>29</th>\n",
       "      <td>'models/text-embedding-004'</td>\n",
       "      <td>'004'</td>\n",
       "      <td>'Text Embedding 004'</td>\n",
       "      <td>'Obtain a distributed representation of a text.'</td>\n",
       "      <td>2048</td>\n",
       "      <td>1</td>\n",
       "      <td>['embedContent']</td>\n",
       "      <td>None</td>\n",
       "      <td>None</td>\n",
       "      <td>None</td>\n",
       "      <td>None</td>\n",
       "    </tr>\n",
       "    <tr>\n",
       "      <th>30</th>\n",
       "      <td>'models/aqa'</td>\n",
       "      <td>'001'</td>\n",
       "      <td>'Model that performs Attributed Question Answe...</td>\n",
       "      <td>NaN</td>\n",
       "      <td>7168</td>\n",
       "      <td>1024</td>\n",
       "      <td>['generateAnswer']</td>\n",
       "      <td>0.2</td>\n",
       "      <td>None</td>\n",
       "      <td>1.0</td>\n",
       "      <td>40</td>\n",
       "    </tr>\n",
       "  </tbody>\n",
       "</table>\n",
       "</div>"
      ],
      "text/plain": [
       "                                     name     version  \\\n",
       "0                 'models/chat-bison-001'       '001'   \n",
       "1                 'models/text-bison-001'       '001'   \n",
       "2            'models/embedding-gecko-001'       '001'   \n",
       "3          'models/gemini-1.0-pro-latest'       '001'   \n",
       "4                 'models/gemini-1.0-pro'       '001'   \n",
       "5                     'models/gemini-pro'       '001'   \n",
       "6             'models/gemini-1.0-pro-001'       '001'   \n",
       "7   'models/gemini-1.0-pro-vision-latest'       '001'   \n",
       "8              'models/gemini-pro-vision'       '001'   \n",
       "9          'models/gemini-1.5-pro-latest'       '001'   \n",
       "10            'models/gemini-1.5-pro-001'       '001'   \n",
       "11            'models/gemini-1.5-pro-002'       '002'   \n",
       "12                'models/gemini-1.5-pro'       '001'   \n",
       "13       'models/gemini-1.5-pro-exp-0801'  'exp-0801'   \n",
       "14       'models/gemini-1.5-pro-exp-0827'  'exp-0827'   \n",
       "15       'models/gemini-1.5-flash-latest'       '001'   \n",
       "16          'models/gemini-1.5-flash-001'       '001'   \n",
       "17   'models/gemini-1.5-flash-001-tuning'       '001'   \n",
       "18              'models/gemini-1.5-flash'       '001'   \n",
       "19     'models/gemini-1.5-flash-exp-0827'  'exp-0827'   \n",
       "20          'models/gemini-1.5-flash-002'       '002'   \n",
       "21           'models/gemini-1.5-flash-8b'       '001'   \n",
       "22       'models/gemini-1.5-flash-8b-001'       '001'   \n",
       "23    'models/gemini-1.5-flash-8b-latest'       '001'   \n",
       "24  'models/gemini-1.5-flash-8b-exp-0827'       '001'   \n",
       "25  'models/gemini-1.5-flash-8b-exp-0924'       '001'   \n",
       "26  'models/learnlm-1.5-pro-experimental'       '001'   \n",
       "27               'models/gemini-exp-1114'  'exp-1114'   \n",
       "28                 'models/embedding-001'       '001'   \n",
       "29            'models/text-embedding-004'       '004'   \n",
       "30                           'models/aqa'       '001'   \n",
       "\n",
       "                                         display_name  \\\n",
       "0                              'PaLM 2 Chat (Legacy)'   \n",
       "1                                   'PaLM 2 (Legacy)'   \n",
       "2                                   'Embedding Gecko'   \n",
       "3                             'Gemini 1.0 Pro Latest'   \n",
       "4                                    'Gemini 1.0 Pro'   \n",
       "5                                    'Gemini 1.0 Pro'   \n",
       "6                       'Gemini 1.0 Pro 001 (Tuning)'   \n",
       "7                             'Gemini 1.0 Pro Vision'   \n",
       "8                             'Gemini 1.0 Pro Vision'   \n",
       "9                             'Gemini 1.5 Pro Latest'   \n",
       "10                               'Gemini 1.5 Pro 001'   \n",
       "11                               'Gemini 1.5 Pro 002'   \n",
       "12                                   'Gemini 1.5 Pro'   \n",
       "13                 'Gemini 1.5 Pro Experimental 0801'   \n",
       "14                 'Gemini 1.5 Pro Experimental 0827'   \n",
       "15                          'Gemini 1.5 Flash Latest'   \n",
       "16                             'Gemini 1.5 Flash 001'   \n",
       "17                      'Gemini 1.5 Flash 001 Tuning'   \n",
       "18                                 'Gemini 1.5 Flash'   \n",
       "19               'Gemini 1.5 Flash Experimental 0827'   \n",
       "20                             'Gemini 1.5 Flash 002'   \n",
       "21                              'Gemini 1.5 Flash-8B'   \n",
       "22                          'Gemini 1.5 Flash-8B 001'   \n",
       "23                       'Gemini 1.5 Flash-8B Latest'   \n",
       "24            'Gemini 1.5 Flash 8B Experimental 0827'   \n",
       "25            'Gemini 1.5 Flash 8B Experimental 0924'   \n",
       "26                     'LearnLM 1.5 Pro Experimental'   \n",
       "27                         'Gemini Experimental 1114'   \n",
       "28                                    'Embedding 001'   \n",
       "29                               'Text Embedding 004'   \n",
       "30  'Model that performs Attributed Question Answe...   \n",
       "\n",
       "                                          description input_token_limit  \\\n",
       "0   'A legacy text-only model optimized for chat c...              4096   \n",
       "1   'A legacy model that understands text and gene...              8196   \n",
       "2    'Obtain a distributed representation of a text.'              1024   \n",
       "3                                                 NaN             30720   \n",
       "4   'The best model for scaling across a wide rang...             30720   \n",
       "5   'The best model for scaling across a wide rang...             30720   \n",
       "6                                                 NaN             30720   \n",
       "7                                                 NaN             12288   \n",
       "8                                                 NaN             12288   \n",
       "9                                                 NaN           2000000   \n",
       "10                                                NaN           2000000   \n",
       "11                                                NaN           2000000   \n",
       "12                                                NaN           2000000   \n",
       "13                                                NaN           2000000   \n",
       "14                                                NaN           2000000   \n",
       "15                                                NaN           1000000   \n",
       "16                                                NaN           1000000   \n",
       "17                                                NaN             16384   \n",
       "18                                                NaN           1000000   \n",
       "19                                                NaN           1000000   \n",
       "20                                                NaN           1000000   \n",
       "21                                                NaN           1000000   \n",
       "22                                                NaN           1000000   \n",
       "23                                                NaN           1000000   \n",
       "24                                                NaN           1000000   \n",
       "25                                                NaN           1000000   \n",
       "26                                                NaN             32767   \n",
       "27  'Experimental release (November 11th, 2024) of...             32767   \n",
       "28   'Obtain a distributed representation of a text.'              2048   \n",
       "29   'Obtain a distributed representation of a text.'              2048   \n",
       "30                                                NaN              7168   \n",
       "\n",
       "   output_token_limit                       supported_generation_methods  \\\n",
       "0                1024          ['generateMessage', 'countMessageTokens']   \n",
       "1                1024  ['generateText', 'countTextTokens', 'createTun...   \n",
       "2                   1                   ['embedText', 'countTextTokens']   \n",
       "3                2048                 ['generateContent', 'countTokens']   \n",
       "4                2048                 ['generateContent', 'countTokens']   \n",
       "5                2048                 ['generateContent', 'countTokens']   \n",
       "6                2048  ['generateContent', 'countTokens', 'createTune...   \n",
       "7                4096                 ['generateContent', 'countTokens']   \n",
       "8                4096                 ['generateContent', 'countTokens']   \n",
       "9                8192                 ['generateContent', 'countTokens']   \n",
       "10               8192  ['generateContent', 'countTokens', 'createCach...   \n",
       "11               8192  ['generateContent', 'countTokens', 'createCach...   \n",
       "12               8192                 ['generateContent', 'countTokens']   \n",
       "13               8192                 ['generateContent', 'countTokens']   \n",
       "14               8192                 ['generateContent', 'countTokens']   \n",
       "15               8192                 ['generateContent', 'countTokens']   \n",
       "16               8192  ['generateContent', 'countTokens', 'createCach...   \n",
       "17               8192  ['generateContent', 'countTokens', 'createTune...   \n",
       "18               8192                 ['generateContent', 'countTokens']   \n",
       "19               8192                 ['generateContent', 'countTokens']   \n",
       "20               8192  ['generateContent', 'countTokens', 'createCach...   \n",
       "21               8192  ['createCachedContent', 'generateContent', 'co...   \n",
       "22               8192  ['createCachedContent', 'generateContent', 'co...   \n",
       "23               8192  ['createCachedContent', 'generateContent', 'co...   \n",
       "24               8192                 ['generateContent', 'countTokens']   \n",
       "25               8192                 ['generateContent', 'countTokens']   \n",
       "26               8192                 ['generateContent', 'countTokens']   \n",
       "27               8192                 ['generateContent', 'countTokens']   \n",
       "28                  1                                   ['embedContent']   \n",
       "29                  1                                   ['embedContent']   \n",
       "30               1024                                 ['generateAnswer']   \n",
       "\n",
       "   temperature max_temperature top_p top_k  \n",
       "0         0.25            None  0.95    40  \n",
       "1          0.7            None  0.95    40  \n",
       "2         None            None  None  None  \n",
       "3          0.9            None   1.0  None  \n",
       "4          0.9            None   1.0  None  \n",
       "5          0.9            None   1.0  None  \n",
       "6          0.9            None   1.0  None  \n",
       "7          0.4            None   1.0    32  \n",
       "8          0.4            None   1.0    32  \n",
       "9          1.0             2.0  0.95    40  \n",
       "10         1.0             2.0  0.95    64  \n",
       "11         1.0             2.0  0.95    40  \n",
       "12         1.0             2.0  0.95    40  \n",
       "13         1.0             2.0  0.95    64  \n",
       "14         1.0             2.0  0.95    64  \n",
       "15         1.0             2.0  0.95    40  \n",
       "16         1.0             2.0  0.95    64  \n",
       "17         1.0             2.0  0.95    64  \n",
       "18         1.0             2.0  0.95    40  \n",
       "19         1.0             2.0  0.95    64  \n",
       "20         1.0             2.0  0.95    40  \n",
       "21         1.0             2.0  0.95    40  \n",
       "22         1.0             2.0  0.95    40  \n",
       "23         1.0             2.0  0.95    40  \n",
       "24         1.0             2.0  0.95    40  \n",
       "25         1.0             2.0  0.95    40  \n",
       "26         1.0             2.0  0.95    64  \n",
       "27         1.0             2.0  0.95    64  \n",
       "28        None            None  None  None  \n",
       "29        None            None  None  None  \n",
       "30         0.2            None   1.0    40  "
      ]
     },
     "execution_count": 36,
     "metadata": {},
     "output_type": "execute_result"
    }
   ],
   "source": [
    "# Retrieving a detailed description of the models for comparison\n",
    "\n",
    "import pandas as pd\n",
    "import re\n",
    "\n",
    "model_df = pd.DataFrame(columns = ['name',\n",
    "                                    'base_model_id',\n",
    "                                    'version',\n",
    "                                    'display_name',\n",
    "                                    'description',\n",
    "                                    'input_token_limit',\n",
    "                                    'output_token_limit',\n",
    "                                    'supported_generation_methods',\n",
    "                                    'temperature',\n",
    "                                    'max_temperature',\n",
    "                                    'top_p',\n",
    "                                    'top_k'])\n",
    "\n",
    "pattern = r\"(\\w+)\\s*=\\s*(.*?)(?=,\\s*\\w+=|\\)$)\"\n",
    "\n",
    "for model in genai.list_models():\n",
    "    model_text = str(model)\n",
    "    model_dict = {match[0]: match[1].strip() for match in re.findall(pattern, model_text)}\n",
    "    model_dict_listified = {key:[value] for key, value in model_dict.items()}\n",
    "    model_df = pd.concat([model_df,pd.DataFrame(model_dict_listified)], ignore_index= True)\n",
    "\n",
    "model_df.drop(columns = ['base_model_id'], inplace = True) # dropping as the values are null\n",
    "model_df"
   ]
  },
  {
   "cell_type": "markdown",
   "metadata": {},
   "source": [
    "A more detailed characteristics of the models can be found <a href='https://ai.google.dev/gemini-api/docs/models/gemini#gemini-1.5-flash'>here<a>"
   ]
  },
  {
   "cell_type": "markdown",
   "metadata": {
    "id": "H_YXCYIKvyZJ"
   },
   "source": [
    "### Output text generation\n",
    "\n",
    "By using the `gemini-1.5-flash` model."
   ]
  },
  {
   "cell_type": "code",
   "execution_count": null,
   "metadata": {
    "execution": {
     "iopub.execute_input": "2024-11-14T10:10:57.355439Z",
     "iopub.status.busy": "2024-11-14T10:10:57.355033Z",
     "iopub.status.idle": "2024-11-14T10:10:59.186424Z",
     "shell.execute_reply": "2024-11-14T10:10:59.185256Z",
     "shell.execute_reply.started": "2024-11-14T10:10:57.355403Z"
    },
    "id": "BV1o0PmcvyJF",
    "trusted": true
   },
   "outputs": [],
   "source": [
    "flash_model = genai.GenerativeModel('gemini-1.5-flash')"
   ]
  },
  {
   "cell_type": "code",
   "execution_count": null,
   "metadata": {},
   "outputs": [
    {
     "name": "stdout",
     "output_type": "stream",
     "text": [
      "Imagine ... a really, really hot fire that's fueled by splitting atoms instead of wood ... or gas. That's basically a nuclear reactor.\n",
      "\n",
      "Here's the ... simplified process:\n",
      "\n",
      "1. **Fuel:**  The reactor uses special materials like uranium, which contains atoms with unstable nuclei.  These nuclei are like tiny, ... tightly wound springs that are ready to unleash a lot of energy.\n",
      "\n",
      "2. **Splitting Atoms (Fission):**  We carefully control the splitting of ... these unstable atoms.  When an atom splits (fission), it releases a huge amount of heat – much more than burning any normal fuel.  It also releases tiny particles called neutrons.\n",
      "\n",
      "3. **Chain Reaction:**  These neutrons ... then go on to hit other unstable atoms, causing *them* to split, releasing even more heat and more neutrons. This creates a self-sustaining chain reaction – a controlled explosion of sorts.\n",
      "\n",
      "4. **Heat Transfer:** The intense ... heat generated is used to boil water.\n",
      "\n",
      "5. **Electricity Generation:** The steam from the boiling water spins turbines, which in turn generate electricity.\n",
      "\n",
      "6. **Control Rods:**  To control the speed of the chain reaction (and prevent it from getting out of control), special rods made of materials that absorb neutrons ... are inserted into the reactor core.  By adjusting the position of these control rods, the reactor's power output can be precisely regulated.\n",
      "\n",
      "In short, a nuclear reactor uses the energy released from splitting atoms to create heat, which is then used to generate electricity. It's a very efficient process, but requires ... extremely careful control to ensure safety.\n",
      " ..."
     ]
    },
    {
     "data": {
      "text/markdown": [
       "Imagine a really, really hot fire that's fueled by splitting atoms instead of wood or gas. That's basically a nuclear reactor.\n",
       "\n",
       "Here's the simplified process:\n",
       "\n",
       "1. **Fuel:**  The reactor uses special materials like uranium, which contains atoms with unstable nuclei.  These nuclei are like tiny, tightly wound springs that are ready to unleash a lot of energy.\n",
       "\n",
       "2. **Splitting Atoms (Fission):**  We carefully control the splitting of these unstable atoms.  When an atom splits (fission), it releases a huge amount of heat – much more than burning any normal fuel.  It also releases tiny particles called neutrons.\n",
       "\n",
       "3. **Chain Reaction:**  These neutrons then go on to hit other unstable atoms, causing *them* to split, releasing even more heat and more neutrons. This creates a self-sustaining chain reaction – a controlled explosion of sorts.\n",
       "\n",
       "4. **Heat Transfer:** The intense heat generated is used to boil water.\n",
       "\n",
       "5. **Electricity Generation:** The steam from the boiling water spins turbines, which in turn generate electricity.\n",
       "\n",
       "6. **Control Rods:**  To control the speed of the chain reaction (and prevent it from getting out of control), special rods made of materials that absorb neutrons are inserted into the reactor core.  By adjusting the position of these control rods, the reactor's power output can be precisely regulated.\n",
       "\n",
       "In short, a nuclear reactor uses the energy released from splitting atoms to create heat, which is then used to generate electricity. It's a very efficient process, but requires extremely careful control to ensure safety.\n"
      ],
      "text/plain": [
       "<IPython.core.display.Markdown object>"
      ]
     },
     "execution_count": 48,
     "metadata": {},
     "output_type": "execute_result"
    }
   ],
   "source": [
    "# Text generation, first with text stream showing partial results, second with markdown\n",
    "response = flash_model.generate_content(\"Explain how nuclear reactor works, without being too much technical\",\n",
    "                                        stream=True)\n",
    "for chunk in response:\n",
    "    print(chunk.text, end=\" \")\n",
    "    print(\"...\", end = '')\n",
    "Markdown(response.text)"
   ]
  },
  {
   "cell_type": "code",
   "execution_count": 64,
   "metadata": {
    "execution": {
     "iopub.execute_input": "2024-11-14T10:11:20.713420Z",
     "iopub.status.busy": "2024-11-14T10:11:20.713011Z",
     "iopub.status.idle": "2024-11-14T10:11:21.474276Z",
     "shell.execute_reply": "2024-11-14T10:11:21.473047Z",
     "shell.execute_reply.started": "2024-11-14T10:11:20.713382Z"
    },
    "id": "lV_S5ZL5MidD",
    "trusted": true
   },
   "outputs": [
    {
     "name": "stdout",
     "output_type": "stream",
     "text": [
      "Okay, my first question is:  Is it typically eaten peeled?\n",
      "\n"
     ]
    }
   ],
   "source": [
    "# Chat generation\n",
    "chat = flash_model.start_chat(history=[\n",
    "    {'role': 'user' , 'parts' : \"Try to guess a fruit, in two questions\"}\n",
    "])\n",
    "response = chat.send_message(\"I'll start with a hint : it's a tropical fruit\")\n",
    "print(response.text)"
   ]
  },
  {
   "cell_type": "code",
   "execution_count": 65,
   "metadata": {},
   "outputs": [
    {
     "name": "stdout",
     "output_type": "stream",
     "text": [
      "My second question: Is it primarily yellow or orange when ripe?\n",
      "\n"
     ]
    }
   ],
   "source": [
    "response = chat.send_message('Yes')\n",
    "print(response.text)"
   ]
  },
  {
   "cell_type": "code",
   "execution_count": 66,
   "metadata": {
    "execution": {
     "iopub.execute_input": "2024-11-14T10:11:24.090237Z",
     "iopub.status.busy": "2024-11-14T10:11:24.089806Z",
     "iopub.status.idle": "2024-11-14T10:11:25.015405Z",
     "shell.execute_reply": "2024-11-14T10:11:25.014172Z",
     "shell.execute_reply.started": "2024-11-14T10:11:24.090180Z"
    },
    "id": "7b0372c3c64a",
    "trusted": true
   },
   "outputs": [
    {
     "name": "stdout",
     "output_type": "stream",
     "text": [
      "My guess is a mango.\n",
      "\n"
     ]
    }
   ],
   "source": [
    "response = chat.send_message('Yes')\n",
    "print(response.text)"
   ]
  },
  {
   "cell_type": "code",
   "execution_count": null,
   "metadata": {},
   "outputs": [
    {
     "data": {
      "text/plain": [
       "response:\n",
       "GenerateContentResponse(\n",
       "    done=True,\n",
       "    iterator=None,\n",
       "    result=protos.GenerateContentResponse({\n",
       "      \"candidates\": [\n",
       "        {\n",
       "          \"content\": {\n",
       "            \"parts\": [\n",
       "              {\n",
       "                \"text\": \"Excellent!  I'm glad we could play.\\n\"\n",
       "              }\n",
       "            ],\n",
       "            \"role\": \"model\"\n",
       "          },\n",
       "          \"finish_reason\": \"STOP\",\n",
       "          \"avg_logprobs\": -0.20676344633102417\n",
       "        }\n",
       "      ],\n",
       "      \"usage_metadata\": {\n",
       "        \"prompt_token_count\": 81,\n",
       "        \"candidates_token_count\": 12,\n",
       "        \"total_token_count\": 93\n",
       "      }\n",
       "    }),\n",
       ")"
      ]
     },
     "execution_count": 72,
     "metadata": {},
     "output_type": "execute_result"
    }
   ],
   "source": [
    "response = chat.send_message('Yes')"
   ]
  },
  {
   "cell_type": "code",
   "execution_count": 73,
   "metadata": {},
   "outputs": [
    {
     "data": {
      "text/plain": [
       "[parts {\n",
       "   text: \"Try to guess a fruit, in two questions\"\n",
       " }\n",
       " role: \"user\",\n",
       " parts {\n",
       "   text: \"I\\'ll start with a hint : it\\'s a tropical fruit\"\n",
       " }\n",
       " role: \"user\",\n",
       " parts {\n",
       "   text: \"Okay, my first question is:  Is it typically eaten peeled?\\n\"\n",
       " }\n",
       " role: \"model\",\n",
       " parts {\n",
       "   text: \"Yes\"\n",
       " }\n",
       " role: \"user\",\n",
       " parts {\n",
       "   text: \"My second question: Is it primarily yellow or orange when ripe?\\n\"\n",
       " }\n",
       " role: \"model\",\n",
       " parts {\n",
       "   text: \"Yes\"\n",
       " }\n",
       " role: \"user\",\n",
       " parts {\n",
       "   text: \"My guess is a mango.\\n\"\n",
       " }\n",
       " role: \"model\",\n",
       " parts {\n",
       "   text: \"Yes\"\n",
       " }\n",
       " role: \"user\",\n",
       " parts {\n",
       "   text: \"Great!  I got it.\\n\"\n",
       " }\n",
       " role: \"model\",\n",
       " parts {\n",
       "   text: \"Yes\"\n",
       " }\n",
       " role: \"user\",\n",
       " parts {\n",
       "   text: \"Excellent!  I\\'m glad we could play.\\n\"\n",
       " }\n",
       " role: \"model\"]"
      ]
     },
     "execution_count": 73,
     "metadata": {},
     "output_type": "execute_result"
    }
   ],
   "source": [
    "#Show chat history\n",
    "chat.history"
   ]
  },
  {
   "cell_type": "markdown",
   "metadata": {
    "id": "5rU_UBlZdooM"
   },
   "source": [
    "## Explore generation parameters\n",
    "\n"
   ]
  },
  {
   "cell_type": "markdown",
   "metadata": {
    "id": "G7NfEizeipbW"
   },
   "source": [
    "### Output length\n",
    "\n",
    "Using `max_output_tokens` parameter, and prompt engineering. Note that output token does not equal word counts."
   ]
  },
  {
   "cell_type": "code",
   "execution_count": 74,
   "metadata": {
    "execution": {
     "iopub.execute_input": "2024-11-14T10:16:28.543913Z",
     "iopub.status.busy": "2024-11-14T10:16:28.543467Z",
     "iopub.status.idle": "2024-11-14T10:16:29.813613Z",
     "shell.execute_reply": "2024-11-14T10:16:29.812292Z",
     "shell.execute_reply.started": "2024-11-14T10:16:28.543872Z"
    },
    "id": "qVf23JsIi9ma",
    "trusted": true
   },
   "outputs": [
    {
     "name": "stdout",
     "output_type": "stream",
     "text": [
      "Chewing gum, a seemingly trivial item, holds surprising significance in modern society. Beyond its simple pleasure, it plays a multifaceted role, impacting oral health, cognitive function, and even social interactions.\n",
      "\n",
      "Firstly, chewing gum stimulates saliva production, a natural defense against tooth decay. This increased saliva flow neutralizes acids, washes away food particles, and strengthens tooth enamel.  Many gums now incorporate xylitol, a sugar alcohol proven to inhibit bacterial growth, further bolstering oral hygiene.\n",
      "\n",
      "Secondly, the act of chewing can improve concentration and alertness. Studies suggest that the rhythmic jaw movements stimulate blood flow to the brain, enhancing focus and reducing stress. This makes chewing gum a useful tool for students during exams or for individuals needing a mental boost.\n",
      "\n",
      "Finally, chewing gum has social implications.  It serves as a subtle, socially acceptable fidgeting mechanism, alleviating anxiety in stressful situations. The act of discreetly chewing can also provide a sense of comfort and routine, especially during long commutes or\n"
     ]
    }
   ],
   "source": [
    "short_model = genai.GenerativeModel(\n",
    "    'gemini-1.5-flash',\n",
    "    generation_config=genai.GenerationConfig(max_output_tokens=200))\n",
    "\n",
    "response = short_model.generate_content('Write a 198 word essay on the importance of chewing gum in modern society.')\n",
    "print(response.text)"
   ]
  },
  {
   "cell_type": "markdown",
   "metadata": {
    "id": "alx-WaAvir_9"
   },
   "source": [
    "### Temperature\n",
    "\n",
    "`temperature` parameter is used to define the degree of randomness in selecting tokens. \n",
    "\n",
    "In case of `gemini-1.5-flash` model, default value is set at 1.0, with 2.0\tas the possible maximum value. \n",
    "\n",
    "Higher the temperature, higher number of candidate tokens to select from, resulting in more open ended and creative results. On the other hand, lower temperature restricts the number of possible tokens. Temperature 0, also referred to as 'greedy coding', selects the token with the highest probability.  \n",
    "\n",
    "To note that temperature doesn't provide any guarantees of randomness, but it can be used to somewhat \"nudge\" the output."
   ]
  },
  {
   "cell_type": "code",
   "execution_count": null,
   "metadata": {
    "execution": {
     "iopub.execute_input": "2024-11-14T10:17:03.277337Z",
     "iopub.status.busy": "2024-11-14T10:17:03.276244Z",
     "iopub.status.idle": "2024-11-14T10:17:05.103006Z",
     "shell.execute_reply": "2024-11-14T10:17:05.101366Z",
     "shell.execute_reply.started": "2024-11-14T10:17:03.277286Z"
    },
    "id": "SHraGMzqnZqt",
    "trusted": true
   },
   "outputs": [
    {
     "name": "stdout",
     "output_type": "stream",
     "text": [
      "Opening line from the book 1984 by George Orwell :       \n",
      " It was a bright cold day in April, and the clocks were striking thirteen.\n",
      " -------------------------\n",
      "Temperature value : 0\n",
      "Winston Smith, his chin nuzzled into his threadbare collar, hurried through the streets of London.  \n",
      "A telescreen, its ever-watchful eye gleaming, seemed to follow his every move.\n",
      " -------------------------\n",
      "Temperature value : 1\n",
      "Winston Smith, his chin nuzzled into his threadbare collar, hurried through the streets of London.  \n",
      "A telescreen's watchful eye seemed to follow him from every shadowed doorway.\n",
      " -------------------------\n",
      "Temperature value : 2\n",
      "Winston Smith, his chin nuzzled into his threadbare collar, hurried down the street.\n",
      "A telescreen, its ever-watchful eye gleaming, seemed to follow his every move.\n",
      " -------------------------\n"
     ]
    }
   ],
   "source": [
    "from google.api_core import retry\n",
    "\n",
    "max_temp_model = genai.GenerativeModel(\n",
    "    'gemini-1.5-flash',\n",
    "    generation_config=genai.GenerationConfig(temperature=2.0,\n",
    "                                             max_output_tokens=100))\n",
    "\n",
    "avg_temp_model = genai.GenerativeModel(\n",
    "    'gemini-1.5-flash',\n",
    "    generation_config=genai.GenerationConfig(temperature=1.0,\n",
    "                                             max_output_tokens=100))\n",
    "\n",
    "min_temp_model = genai.GenerativeModel(\n",
    "    'gemini-1.5-flash',\n",
    "    generation_config=genai.GenerationConfig(temperature=0.0,\n",
    "                                             max_output_tokens=100))\n",
    "\n",
    "# When running lots of queries, it's a good practice to use a retry policy so your code\n",
    "# automatically retries when hitting Resource Exhausted (quota limit) errors.\n",
    "retry_policy = {\n",
    "    \"retry\": retry.Retry(predicate=retry.if_transient_error, initial=10, multiplier=1.5, timeout=300)\n",
    "}\n",
    "\n",
    "instruction = \"\"\"Continue the story and add two sentences. New line for each sentence :\n",
    "                It was a bright cold day in April, and the clocks were striking thirteen.\"\"\"\n",
    "\n",
    "print(f\"Opening line from the book 1984 by George Orwell : \\\n",
    "      \\n It was a bright cold day in April, and the clocks were striking thirteen.\\n {'-'*25}\")\n",
    "\n",
    "for temp in range(3):\n",
    "    model = genai.GenerativeModel('gemini-1.5-flash',\n",
    "                                  generation_config=genai.GenerationConfig(temperature=temp,\n",
    "                                                                        max_output_tokens=100))\n",
    "    print(f'Temperature value : {temp}')\n",
    "    response = model.generate_content(instruction, request_options=retry_policy)\n",
    "\n",
    "    if response.parts:\n",
    "        print(response.text, '-' * 25)"
   ]
  },
  {
   "cell_type": "markdown",
   "metadata": {
    "id": "z3J4pCTuof7e"
   },
   "source": [
    "Interesting how the sentences begins with the same phrase \"Winston Smith, his chin nuzzled into his threadbare collar, hurried\", no matter the value of the temperature. Structure of the sentences also resembles the same. "
   ]
  },
  {
   "cell_type": "code",
   "execution_count": 21,
   "metadata": {
    "execution": {
     "iopub.execute_input": "2024-11-14T10:17:54.536003Z",
     "iopub.status.busy": "2024-11-14T10:17:54.535524Z",
     "iopub.status.idle": "2024-11-14T10:17:56.269340Z",
     "shell.execute_reply": "2024-11-14T10:17:56.267995Z",
     "shell.execute_reply.started": "2024-11-14T10:17:54.535956Z"
    },
    "id": "clymkWv-PfUZ",
    "trusted": true
   },
   "outputs": [
    {
     "name": "stdout",
     "output_type": "stream",
     "text": [
      "Purple \n",
      " -------------------------\n",
      "Purple \n",
      " -------------------------\n",
      "Purple \n",
      " -------------------------\n",
      "Purple \n",
      " -------------------------\n",
      "Purple \n",
      " -------------------------\n"
     ]
    }
   ],
   "source": [
    "low_temp_model = genai.GenerativeModel(\n",
    "    'gemini-1.5-flash',\n",
    "    generation_config=genai.GenerationConfig(temperature=0.0))\n",
    "\n",
    "for _ in range(5):\n",
    "  response = low_temp_model.generate_content('Pick a random colour... (respond in a single word)',\n",
    "                                             request_options=retry_policy)\n",
    "  if response.parts:\n",
    "    print(response.text, '-' * 25)"
   ]
  },
  {
   "cell_type": "markdown",
   "metadata": {
    "id": "St5nt3vzitsZ"
   },
   "source": [
    "### Top-K and top-P\n",
    "\n",
    "Like temperature, top-K and top-P parameters are also used to control the diversity of the model's output.\n",
    "\n",
    "Top-K is a positive integer that defines the number of most probable tokens from which to select the output token. A top-K of 1 selects a single token, performing greedy decoding.\n",
    "\n",
    "Top-P defines the probability threshold that, once cumulatively exceeded, tokens stop being selected as candidates. A top-P of 0 is typically equivalent to greedy decoding, and a top-P of 1 typically selects every token in the model's vocabulary.\n",
    "\n",
    "When both are supplied, the Gemini API will filter top-K tokens first, then top-P and then finally sample from the candidate tokens using the supplied temperature.\n",
    "\n",
    "Run this example a number of times, change the settings and observe the change in output."
   ]
  },
  {
   "cell_type": "code",
   "execution_count": 25,
   "metadata": {
    "execution": {
     "iopub.execute_input": "2024-11-14T10:19:31.963729Z",
     "iopub.status.busy": "2024-11-14T10:19:31.963301Z",
     "iopub.status.idle": "2024-11-14T10:19:34.701056Z",
     "shell.execute_reply": "2024-11-14T10:19:34.699940Z",
     "shell.execute_reply.started": "2024-11-14T10:19:31.963689Z"
    },
    "id": "lPlzpEavUV8F",
    "trusted": true
   },
   "outputs": [
    {
     "name": "stdout",
     "output_type": "stream",
     "text": [
      "Bartholomew, a ginger tabby with a penchant for mischief and a disdain for routine, was bored. The sunbeams that usually danced on his favorite rug were dull, the birds outside chirping the same monotonous tune. He yearned for something more, something… adventurous.\n",
      "\n",
      "His opportunity arrived in the form of a delivery truck. The driver, a burly man with a booming laugh, carelessly left the back door ajar. Bartholomew, with the agility of a seasoned acrobat, slipped inside. The truck rumbled to life, and Bartholomew found himself on a journey unlike any he'd ever known.\n",
      "\n",
      "The world outside his usual window was a kaleidoscope of sights and smells. He saw towering buildings that scraped the sky, bustling markets overflowing with exotic fruits, and a vast, shimmering ocean. He sniffed the scent of fresh bread, salty air, and the sweet perfume of blooming flowers.\n",
      "\n",
      "His adventure took him to a bustling city park, where he encountered a group of pigeons. They were wary at first, but Bartholomew, with his charm and a few well-placed purrs, convinced them to share their crumbs. He even learned a few pigeon-speak phrases, which he found surprisingly useful.\n",
      "\n",
      "Next, he found himself in a cozy bookstore, where he was greeted by a kind old woman with a warm smile. She offered him a saucer of milk and a comfy spot on a pile of books. Bartholomew, in return, regaled her with tales of his journey, his voice a soft rumble.\n",
      "\n",
      "As the sun began to set, casting long shadows across the city, Bartholomew knew it was time to return. He found himself back in the delivery truck, the driver oblivious to his furry stowaway.\n",
      "\n",
      "Back home, Bartholomew was greeted by his human, a young girl named Lily. She was overjoyed to see him, her face lighting up with relief. Bartholomew, however, was not the same cat who had left that morning. He had seen the world, tasted adventure, and learned the value of a good story.\n",
      "\n",
      "From that day on, Bartholomew never looked at the world with the same indifference. He knew that even the most ordinary day could hold the promise of something extraordinary, waiting to be discovered. And he, the ginger tabby with a penchant for mischief, was ready to embrace it all. \n",
      "\n"
     ]
    }
   ],
   "source": [
    "model = genai.GenerativeModel(\n",
    "    'gemini-1.5-flash-001',\n",
    "    generation_config=genai.GenerationConfig(\n",
    "        # These are the default values for gemini-1.5-flash-001.\n",
    "        temperature=0,\n",
    "        top_k=6,\n",
    "        top_p=0.95,\n",
    "    ))\n",
    "\n",
    "story_prompt = \"You are a creative writer. Write a short story about a cat who goes on an adventure.\"\n",
    "response = model.generate_content(story_prompt, request_options=retry_policy)\n",
    "print(response.text)"
   ]
  },
  {
   "cell_type": "markdown",
   "metadata": {
    "id": "rMrYs1koY6DX"
   },
   "source": [
    "## Prompting\n",
    "\n",
    "This section contains some prompts from the chapter for you to try out directly in the API. Try changing the text here to see how each prompt performs with different instructions, more examples, or any other changes you can think of."
   ]
  },
  {
   "cell_type": "markdown",
   "metadata": {
    "id": "hhj_tQidZJP7"
   },
   "source": [
    "### Zero-shot\n",
    "\n",
    "Zero-shot prompts are prompts that describe the request for the model directly.\n",
    "\n",
    "<table align=left>\n",
    "  <td>\n",
    "    <a target=\"_blank\" href=\"https://aistudio.google.com/prompts/1gzKKgDHwkAvexG5Up0LMtl1-6jKMKe4g\"><img src=\"https://ai.google.dev/site-assets/images/marketing/home/icon-ais.png\" style=\"height: 24px\" height=24/> Open in AI Studio</a>\n",
    "  </td>\n",
    "</table>"
   ]
  },
  {
   "cell_type": "code",
   "execution_count": 27,
   "metadata": {
    "execution": {
     "iopub.execute_input": "2024-11-14T10:22:17.799950Z",
     "iopub.status.busy": "2024-11-14T10:22:17.799404Z",
     "iopub.status.idle": "2024-11-14T10:22:18.164444Z",
     "shell.execute_reply": "2024-11-14T10:22:18.163348Z",
     "shell.execute_reply.started": "2024-11-14T10:22:17.799857Z"
    },
    "id": "1_t-cwnDZzbH",
    "trusted": true
   },
   "outputs": [
    {
     "name": "stdout",
     "output_type": "stream",
     "text": [
      "Sentiment: **POSITIVE**\n"
     ]
    }
   ],
   "source": [
    "model = genai.GenerativeModel(\n",
    "    'gemini-1.5-flash-001',\n",
    "    generation_config=genai.GenerationConfig(\n",
    "        temperature=0.1,\n",
    "        top_p=1,\n",
    "        max_output_tokens=5,\n",
    "    ))\n",
    "\n",
    "zero_shot_prompt = \"\"\"Classify movie reviews as POSITIVE, NEUTRAL or NEGATIVE.\n",
    "Review: \"Her\" is a disturbing study revealing the direction\n",
    "humanity is headed if AI is allowed to keep evolving,\n",
    "unchecked. I wish there were more movies like this masterpiece.\n",
    "Sentiment: \"\"\"\n",
    "\n",
    "response = model.generate_content(zero_shot_prompt, request_options=retry_policy)\n",
    "print(response.text)"
   ]
  },
  {
   "cell_type": "markdown",
   "metadata": {
    "id": "3b5568bdeb11"
   },
   "source": [
    "#### Enum mode\n",
    "\n",
    "The models are trained to generate text, and can sometimes produce more text than you may wish for. In the preceding example, the model will output the label, sometimes it can include a preceding \"Sentiment\" label, and without an output token limit, it may also add explanatory text afterwards.\n",
    "\n",
    "The Gemini API has an [Enum mode](https://github.com/google-gemini/cookbook/blob/main/quickstarts/Enum.ipynb) feature that allows you to constrain the output to a fixed set of values."
   ]
  },
  {
   "cell_type": "code",
   "execution_count": 28,
   "metadata": {
    "execution": {
     "iopub.execute_input": "2024-11-14T10:22:41.969247Z",
     "iopub.status.busy": "2024-11-14T10:22:41.968825Z",
     "iopub.status.idle": "2024-11-14T10:22:42.558417Z",
     "shell.execute_reply": "2024-11-14T10:22:42.557095Z",
     "shell.execute_reply.started": "2024-11-14T10:22:41.969192Z"
    },
    "id": "ad118a56c598",
    "trusted": true
   },
   "outputs": [
    {
     "name": "stdout",
     "output_type": "stream",
     "text": [
      "positive\n"
     ]
    }
   ],
   "source": [
    "import enum\n",
    "\n",
    "class Sentiment(enum.Enum):\n",
    "    POSITIVE = \"positive\"\n",
    "    NEUTRAL = \"neutral\"\n",
    "    NEGATIVE = \"negative\"\n",
    "\n",
    "\n",
    "model = genai.GenerativeModel(\n",
    "    'gemini-1.5-flash-001',\n",
    "    generation_config=genai.GenerationConfig(\n",
    "        response_mime_type=\"text/x.enum\",\n",
    "        response_schema=Sentiment\n",
    "    ))\n",
    "\n",
    "response = model.generate_content(zero_shot_prompt, request_options=retry_policy)\n",
    "print(response.text)"
   ]
  },
  {
   "cell_type": "markdown",
   "metadata": {
    "id": "0udiSwNbv45W"
   },
   "source": [
    "### One-shot and few-shot\n",
    "\n",
    "Providing an example of the expected response is known as a \"one-shot\" prompt. When you provide multiple examples, it is a \"few-shot\" prompt.\n",
    "\n",
    "<table align=left>\n",
    "  <td>\n",
    "    <a target=\"_blank\" href=\"https://aistudio.google.com/prompts/1jjWkjUSoMXmLvMJ7IzADr_GxHPJVV2bg\"><img src=\"https://ai.google.dev/site-assets/images/marketing/home/icon-ais.png\" style=\"height: 24px\" height=24/> Open in AI Studio</a>\n",
    "  </td>\n",
    "</table>\n"
   ]
  },
  {
   "cell_type": "code",
   "execution_count": 29,
   "metadata": {
    "execution": {
     "iopub.execute_input": "2024-11-14T10:24:40.129616Z",
     "iopub.status.busy": "2024-11-14T10:24:40.129161Z",
     "iopub.status.idle": "2024-11-14T10:24:40.608059Z",
     "shell.execute_reply": "2024-11-14T10:24:40.606750Z",
     "shell.execute_reply.started": "2024-11-14T10:24:40.129576Z"
    },
    "id": "hd4mVUukwOKZ",
    "trusted": true
   },
   "outputs": [
    {
     "name": "stdout",
     "output_type": "stream",
     "text": [
      "```json\n",
      "{\n",
      "\"size\": \"large\",\n",
      "\"type\": \"normal\",\n",
      "\"ingredients\": [\"cheese\", \"pineapple\"]\n",
      "}\n",
      "``` \n",
      "\n"
     ]
    }
   ],
   "source": [
    "model = genai.GenerativeModel(\n",
    "    'gemini-1.5-flash-latest',\n",
    "    generation_config=genai.GenerationConfig(\n",
    "        temperature=0.1,\n",
    "        top_p=1,\n",
    "        max_output_tokens=250,\n",
    "    ))\n",
    "\n",
    "few_shot_prompt = \"\"\"Parse a customer's pizza order into valid JSON:\n",
    "\n",
    "EXAMPLE:\n",
    "I want a small pizza with cheese, tomato sauce, and pepperoni.\n",
    "JSON Response:\n",
    "```\n",
    "{\n",
    "\"size\": \"small\",\n",
    "\"type\": \"normal\",\n",
    "\"ingredients\": [\"cheese\", \"tomato sauce\", \"peperoni\"]\n",
    "}\n",
    "```\n",
    "\n",
    "EXAMPLE:\n",
    "Can I get a large pizza with tomato sauce, basil and mozzarella\n",
    "JSON Response:\n",
    "```\n",
    "{\n",
    "\"size\": \"large\",\n",
    "\"type\": \"normal\",\n",
    "\"ingredients\": [\"tomato sauce\", \"basil\", \"mozzarella\"]\n",
    "}\n",
    "\n",
    "ORDER:\n",
    "\"\"\"\n",
    "\n",
    "customer_order = \"Give me a large with cheese & pineapple\"\n",
    "\n",
    "\n",
    "response = model.generate_content([few_shot_prompt, customer_order], request_options=retry_policy)\n",
    "print(response.text)"
   ]
  },
  {
   "cell_type": "markdown",
   "metadata": {
    "id": "021293096f08"
   },
   "source": [
    "#### JSON mode\n",
    "\n",
    "To provide control over the schema, and to ensure that you only receive JSON (with no other text or markdown), you can use the Gemini API's [JSON mode](https://github.com/google-gemini/cookbook/blob/main/quickstarts/JSON_mode.ipynb). This forces the model to constrain decoding, such that token selection is guided by the supplied schema."
   ]
  },
  {
   "cell_type": "code",
   "execution_count": 30,
   "metadata": {
    "execution": {
     "iopub.execute_input": "2024-11-14T10:25:28.332979Z",
     "iopub.status.busy": "2024-11-14T10:25:28.332552Z",
     "iopub.status.idle": "2024-11-14T10:25:28.915445Z",
     "shell.execute_reply": "2024-11-14T10:25:28.914320Z",
     "shell.execute_reply.started": "2024-11-14T10:25:28.332938Z"
    },
    "id": "50fbf0260912",
    "trusted": true
   },
   "outputs": [
    {
     "name": "stdout",
     "output_type": "stream",
     "text": [
      "{\"ingredients\": [\"apple\", \"chocolate\"], \"size\": \"large\", \"type\": \"dessert\"}\n",
      "\n"
     ]
    }
   ],
   "source": [
    "import typing_extensions as typing\n",
    "\n",
    "class PizzaOrder(typing.TypedDict):\n",
    "    size: str\n",
    "    ingredients: list[str]\n",
    "    type: str\n",
    "\n",
    "\n",
    "model = genai.GenerativeModel(\n",
    "    'gemini-1.5-flash-latest',\n",
    "    generation_config=genai.GenerationConfig(\n",
    "        temperature=0.1,\n",
    "        response_mime_type=\"application/json\",\n",
    "        response_schema=PizzaOrder,\n",
    "    ))\n",
    "\n",
    "response = model.generate_content(\"Can I have a large dessert pizza with apple and chocolate\")\n",
    "print(response.text)"
   ]
  },
  {
   "cell_type": "markdown",
   "metadata": {
    "id": "4a93e338e57c"
   },
   "source": [
    "### Chain of Thought (CoT)\n",
    "\n",
    "Direct prompting on LLMs can return answers quickly and (in terms of output token usage) efficiently, but they can be prone to hallucination. The answer may \"look\" correct (in terms of language and syntax) but is incorrect in terms of factuality and reasoning.\n",
    "\n",
    "Chain-of-Thought prompting is a technique where you instruct the model to output intermediate reasoning steps, and it typically gets better results, especially when combined with few-shot examples. It is worth noting that this technique doesn't completely eliminate hallucinations, and that it tends to cost more to run, due to the increased token count.\n",
    "\n",
    "As models like the Gemini family are trained to be \"chatty\" and provide reasoning steps, you can ask the model to be more direct in the prompt."
   ]
  },
  {
   "cell_type": "code",
   "execution_count": 31,
   "metadata": {
    "execution": {
     "iopub.execute_input": "2024-11-14T10:26:45.104529Z",
     "iopub.status.busy": "2024-11-14T10:26:45.104105Z",
     "iopub.status.idle": "2024-11-14T10:26:45.534539Z",
     "shell.execute_reply": "2024-11-14T10:26:45.532924Z",
     "shell.execute_reply.started": "2024-11-14T10:26:45.104492Z"
    },
    "id": "5715555db1c1",
    "trusted": true
   },
   "outputs": [
    {
     "name": "stdout",
     "output_type": "stream",
     "text": [
      "52 \n",
      "\n"
     ]
    }
   ],
   "source": [
    "prompt = \"\"\"When I was 4 years old, my partner was 3 times my age. Now, I\n",
    "am 20 years old. How old is my partner? Return the answer directly.\"\"\"\n",
    "\n",
    "model = genai.GenerativeModel('gemini-1.5-flash-latest')\n",
    "response = model.generate_content(prompt, request_options=retry_policy)\n",
    "\n",
    "print(response.text)"
   ]
  },
  {
   "cell_type": "markdown",
   "metadata": {
    "id": "e12b19677bfd"
   },
   "source": [
    "Now try the same approach, but indicate to the model that it should \"think step by step\"."
   ]
  },
  {
   "cell_type": "code",
   "execution_count": 32,
   "metadata": {
    "execution": {
     "iopub.execute_input": "2024-11-14T10:26:50.303870Z",
     "iopub.status.busy": "2024-11-14T10:26:50.303443Z",
     "iopub.status.idle": "2024-11-14T10:26:51.314377Z",
     "shell.execute_reply": "2024-11-14T10:26:51.312690Z",
     "shell.execute_reply.started": "2024-11-14T10:26:50.303825Z"
    },
    "id": "ffd7536a481f",
    "trusted": true
   },
   "outputs": [
    {
     "name": "stdout",
     "output_type": "stream",
     "text": [
      "Here's how to solve this:\n",
      "\n",
      "* **When you were 4, your partner was 3 times your age:** 4 years old * 3 = 12 years old.\n",
      "* **The age difference between you and your partner:** 12 years old - 4 years old = 8 years.\n",
      "* **Since the age difference remains constant, your partner is still 8 years older than you.**\n",
      "* **Your partner's current age:** 20 years old + 8 years = 28 years old.\n",
      "\n",
      "**Therefore, your partner is 28 years old.** \n",
      "\n"
     ]
    }
   ],
   "source": [
    "prompt = \"\"\"When I was 4 years old, my partner was 3 times my age. Now,\n",
    "I am 20 years old. How old is my partner? Let's think step by step.\"\"\"\n",
    "\n",
    "response = model.generate_content(prompt, request_options=retry_policy)\n",
    "print(response.text)"
   ]
  },
  {
   "cell_type": "markdown",
   "metadata": {
    "id": "oiLgBQJj0V53"
   },
   "source": [
    "### ReAct: Reason and act\n",
    "\n",
    "In this example you will run a ReAct prompt directly in the Gemini API and perform the searching steps yourself. As this prompt follows a well-defined structure, there are frameworks available that wrap the prompt into easier-to-use APIs that make tool calls automatically, such as the LangChain example from the chapter.\n",
    "\n",
    "To try this out with the Wikipedia search engine, check out the [Searching Wikipedia with ReAct](https://github.com/google-gemini/cookbook/blob/main/examples/Search_Wikipedia_using_ReAct.ipynb) cookbook example.\n",
    "\n",
    "\n",
    "> Note: The prompt and in-context examples used here are from [https://github.com/ysymyth/ReAct](https://github.com/ysymyth/ReAct) which is published under a [MIT license](https://opensource.org/licenses/MIT), Copyright (c) 2023 Shunyu Yao.\n",
    "\n",
    "<table align=left>\n",
    "  <td>\n",
    "    <a target=\"_blank\" href=\"https://aistudio.google.com/prompts/18oo63Lwosd-bQ6Ay51uGogB3Wk3H8XMO\"><img src=\"https://ai.google.dev/site-assets/images/marketing/home/icon-ais.png\" style=\"height: 24px\" height=24/> Open in AI Studio</a>\n",
    "  </td>\n",
    "</table>\n"
   ]
  },
  {
   "cell_type": "code",
   "execution_count": 34,
   "metadata": {
    "execution": {
     "iopub.execute_input": "2024-11-14T10:31:26.790607Z",
     "iopub.status.busy": "2024-11-14T10:31:26.790139Z",
     "iopub.status.idle": "2024-11-14T10:31:26.798564Z",
     "shell.execute_reply": "2024-11-14T10:31:26.797324Z",
     "shell.execute_reply.started": "2024-11-14T10:31:26.790566Z"
    },
    "id": "cBgyNJ5z0VSs",
    "trusted": true
   },
   "outputs": [],
   "source": [
    "model_instructions = \"\"\"\n",
    "Solve a question answering task with interleaving Thought, Action, Observation steps. Thought can reason about the current situation,\n",
    "Observation is understanding relevant information from an Action's output and Action can be one of three types:\n",
    " (1) <search>entity</search>, which searches the exact entity on Wikipedia and returns the first paragraph if it exists. If not, it\n",
    "     will return some similar entities to search and you can try to search the information from those topics.\n",
    " (2) <lookup>keyword</lookup>, which returns the next sentence containing keyword in the current context. This only does exact matches,\n",
    "     so keep your searches short.\n",
    " (3) <finish>answer</finish>, which returns the answer and finishes the task.\n",
    "\"\"\"\n",
    "\n",
    "example1 = \"\"\"Question\n",
    "Musician and satirist Allie Goertz wrote a song about the \"The Simpsons\" character Milhouse, who Matt Groening named after who?\n",
    "\n",
    "Thought 1\n",
    "The question simplifies to \"The Simpsons\" character Milhouse is named after who. I only need to search Milhouse and find who it is named after.\n",
    "\n",
    "Action 1\n",
    "<search>Milhouse</search>\n",
    "\n",
    "Observation 1\n",
    "Milhouse Mussolini Van Houten is a recurring character in the Fox animated television series The Simpsons voiced by Pamela Hayden and created by Matt Groening.\n",
    "\n",
    "Thought 2\n",
    "The paragraph does not tell who Milhouse is named after, maybe I can look up \"named after\".\n",
    "\n",
    "Action 2\n",
    "<lookup>named after</lookup>\n",
    "\n",
    "Observation 2\n",
    "Milhouse was named after U.S. president Richard Nixon, whose middle name was Milhous.\n",
    "\n",
    "Thought 3\n",
    "Milhouse was named after U.S. president Richard Nixon, so the answer is Richard Nixon.\n",
    "\n",
    "Action 3\n",
    "<finish>Richard Nixon</finish>\n",
    "\"\"\"\n",
    "\n",
    "example2 = \"\"\"Question\n",
    "What is the elevation range for the area that the eastern sector of the Colorado orogeny extends into?\n",
    "\n",
    "Thought 1\n",
    "I need to search Colorado orogeny, find the area that the eastern sector of the Colorado orogeny extends into, then find the elevation range of the area.\n",
    "\n",
    "Action 1\n",
    "<search>Colorado orogeny</search>\n",
    "\n",
    "Observation 1\n",
    "The Colorado orogeny was an episode of mountain building (an orogeny) in Colorado and surrounding areas.\n",
    "\n",
    "Thought 2\n",
    "It does not mention the eastern sector. So I need to look up eastern sector.\n",
    "\n",
    "Action 2\n",
    "<lookup>eastern sector</lookup>\n",
    "\n",
    "Observation 2\n",
    "The eastern sector extends into the High Plains and is called the Central Plains orogeny.\n",
    "\n",
    "Thought 3\n",
    "The eastern sector of Colorado orogeny extends into the High Plains. So I need to search High Plains and find its elevation range.\n",
    "\n",
    "Action 3\n",
    "<search>High Plains</search>\n",
    "\n",
    "Observation 3\n",
    "High Plains refers to one of two distinct land regions\n",
    "\n",
    "Thought 4\n",
    "I need to instead search High Plains (United States).\n",
    "\n",
    "Action 4\n",
    "<search>High Plains (United States)</search>\n",
    "\n",
    "Observation 4\n",
    "The High Plains are a subregion of the Great Plains. From east to west, the High Plains rise in elevation from around 1,800 to 7,000 ft (550 to 2,130m).\n",
    "\n",
    "Thought 5\n",
    "High Plains rise in elevation from around 1,800 to 7,000 ft, so the answer is 1,800 to 7,000 ft.\n",
    "\n",
    "Action 5\n",
    "<finish>1,800 to 7,000 ft</finish>\n",
    "\"\"\"\n",
    "\n",
    "# Come up with more examples yourself, or take a look through https://github.com/ysymyth/ReAct/"
   ]
  },
  {
   "cell_type": "markdown",
   "metadata": {
    "id": "C3wbfstjTgey"
   },
   "source": [
    "To capture a single step at a time, while ignoring any hallucinated Observation steps, you will use `stop_sequences` to end the generation process. The steps are `Thought`, `Action`, `Observation`, in that order."
   ]
  },
  {
   "cell_type": "code",
   "execution_count": 35,
   "metadata": {
    "execution": {
     "iopub.execute_input": "2024-11-14T10:31:37.916030Z",
     "iopub.status.busy": "2024-11-14T10:31:37.915636Z",
     "iopub.status.idle": "2024-11-14T10:31:39.454489Z",
     "shell.execute_reply": "2024-11-14T10:31:39.453133Z",
     "shell.execute_reply.started": "2024-11-14T10:31:37.915992Z"
    },
    "id": "8mxrXRkRTdXm",
    "trusted": true
   },
   "outputs": [
    {
     "name": "stdout",
     "output_type": "stream",
     "text": [
      "Thought 1\n",
      "The question asks for the youngest author of the Transformers NLP paper. I should search for the paper, find the author list, and then determine the youngest author.\n",
      "\n",
      "Action 1\n",
      "<search>Transformers NLP paper</search>\n",
      "\n"
     ]
    }
   ],
   "source": [
    "question = \"\"\"Question\n",
    "Who was the youngest author listed on the transformers NLP paper?\n",
    "\"\"\"\n",
    "\n",
    "model = genai.GenerativeModel('gemini-1.5-flash-latest')\n",
    "react_chat = model.start_chat()\n",
    "\n",
    "# You will perform the Action, so generate up to, but not including, the Observation.\n",
    "config = genai.GenerationConfig(stop_sequences=[\"\\nObservation\"])\n",
    "\n",
    "resp = react_chat.send_message(\n",
    "    [model_instructions, example1, example2, question],\n",
    "    generation_config=config,\n",
    "    request_options=retry_policy)\n",
    "print(resp.text)"
   ]
  },
  {
   "cell_type": "markdown",
   "metadata": {
    "id": "aW2PIdLbVv3l"
   },
   "source": [
    "Now you can perform this research yourself and supply it back to the model."
   ]
  },
  {
   "cell_type": "code",
   "execution_count": 36,
   "metadata": {
    "execution": {
     "iopub.execute_input": "2024-11-14T10:32:14.090498Z",
     "iopub.status.busy": "2024-11-14T10:32:14.089929Z",
     "iopub.status.idle": "2024-11-14T10:32:14.808359Z",
     "shell.execute_reply": "2024-11-14T10:32:14.807110Z",
     "shell.execute_reply.started": "2024-11-14T10:32:14.090444Z"
    },
    "id": "mLMc0DZaV9g2",
    "trusted": true
   },
   "outputs": [
    {
     "name": "stdout",
     "output_type": "stream",
     "text": [
      "Thought 2\n",
      "The observation contains the author list, but it does not contain their ages. There is no information about the age of the authors in the observation. I need to find information about the ages of these authors. I can try searching each author individually.\n",
      "\n",
      "Action 2\n",
      "<search>Ashish Vaswani age</search> \n",
      "\n"
     ]
    }
   ],
   "source": [
    "observation = \"\"\"Observation 1\n",
    "[1706.03762] Attention Is All You Need\n",
    "Ashish Vaswani, Noam Shazeer, Niki Parmar, Jakob Uszkoreit, Llion Jones, Aidan N. Gomez, Lukasz Kaiser, Illia Polosukhin\n",
    "We propose a new simple network architecture, the Transformer, based solely on attention mechanisms, dispensing with recurrence and convolutions entirely.\n",
    "\"\"\"\n",
    "resp = react_chat.send_message(observation, generation_config=config, request_options=retry_policy)\n",
    "print(resp.text)"
   ]
  },
  {
   "cell_type": "markdown",
   "metadata": {
    "id": "bo0tzf4nX6dA"
   },
   "source": [
    "This process repeats until the `<finish>` action is reached. You can continue running this yourself if you like, or try the [Wikipedia example](https://github.com/google-gemini/cookbook/blob/main/examples/Search_Wikipedia_using_ReAct.ipynb) to see a fully automated ReAct system at work."
   ]
  },
  {
   "cell_type": "markdown",
   "metadata": {
    "id": "jPiZ_eIIaVPt"
   },
   "source": [
    "## Code prompting"
   ]
  },
  {
   "cell_type": "markdown",
   "metadata": {
    "id": "ZinKamwXeR6C"
   },
   "source": [
    "### Generating code\n",
    "\n",
    "The Gemini family of models can be used to generate code, configuration and scripts. Generating code can be helpful when learning to code, learning a new language or for rapidly generating a first draft.\n",
    "\n",
    "It's important to be aware that since LLMs can't reason, and can repeat training data, it's essential to read and test your code first, and comply with any relevant licenses.\n",
    "\n",
    "<table align=left>\n",
    "  <td>\n",
    "    <a target=\"_blank\" href=\"https://aistudio.google.com/prompts/1YX71JGtzDjXQkgdes8bP6i3oH5lCRKxv\"><img src=\"https://ai.google.dev/site-assets/images/marketing/home/icon-ais.png\" style=\"height: 24px\" height=24/> Open in AI Studio</a>\n",
    "  </td>\n",
    "</table>"
   ]
  },
  {
   "cell_type": "code",
   "execution_count": 37,
   "metadata": {
    "execution": {
     "iopub.execute_input": "2024-11-14T10:33:08.968065Z",
     "iopub.status.busy": "2024-11-14T10:33:08.967665Z",
     "iopub.status.idle": "2024-11-14T10:33:09.482362Z",
     "shell.execute_reply": "2024-11-14T10:33:09.481283Z",
     "shell.execute_reply.started": "2024-11-14T10:33:08.968025Z"
    },
    "id": "fOQP9pqmeUO1",
    "trusted": true
   },
   "outputs": [
    {
     "data": {
      "text/markdown": [
       "```python\n",
       "def factorial(n):\n",
       "  if n == 0:\n",
       "    return 1\n",
       "  else:\n",
       "    return n * factorial(n-1)\n",
       "```"
      ],
      "text/plain": [
       "<IPython.core.display.Markdown object>"
      ]
     },
     "execution_count": 37,
     "metadata": {},
     "output_type": "execute_result"
    }
   ],
   "source": [
    "model = genai.GenerativeModel(\n",
    "    'gemini-1.5-flash-latest',\n",
    "    generation_config=genai.GenerationConfig(\n",
    "        temperature=1,\n",
    "        top_p=1,\n",
    "        max_output_tokens=1024,\n",
    "    ))\n",
    "\n",
    "# Gemini 1.5 models are very chatty, so it helps to specify they stick to the code.\n",
    "code_prompt = \"\"\"\n",
    "Write a Python function to calculate the factorial of a number. No explanation, provide only the code.\n",
    "\"\"\"\n",
    "\n",
    "response = model.generate_content(code_prompt, request_options=retry_policy)\n",
    "Markdown(response.text)"
   ]
  },
  {
   "cell_type": "markdown",
   "metadata": {
    "id": "wlBMWSFhgVRQ"
   },
   "source": [
    "### Code execution\n",
    "\n",
    "The Gemini API can automatically run generated code too, and will return the output.\n",
    "\n",
    "<table align=left>\n",
    "  <td>\n",
    "    <a target=\"_blank\" href=\"https://aistudio.google.com/prompts/11veFr_VYEwBWcLkhNLr-maCG0G8sS_7Z\"><img src=\"https://ai.google.dev/site-assets/images/marketing/home/icon-ais.png\" style=\"height: 24px\" height=24/> Open in AI Studio</a>\n",
    "  </td>\n",
    "</table>"
   ]
  },
  {
   "cell_type": "code",
   "execution_count": null,
   "metadata": {
    "execution": {
     "iopub.execute_input": "2024-11-14T10:35:31.573352Z",
     "iopub.status.busy": "2024-11-14T10:35:31.572929Z"
    },
    "id": "jT3OfWYfhjRL",
    "trusted": true
   },
   "outputs": [],
   "source": [
    "model = genai.GenerativeModel(\n",
    "    'gemini-1.5-flash-latest',\n",
    "    tools='code_execution',)\n",
    "\n",
    "code_exec_prompt = \"\"\"\n",
    "Calculate the sum of the first 14 prime numbers. Only consider the odd primes, and make sure you count them all.\n",
    "\"\"\"\n",
    "\n",
    "response = model.generate_content(code_exec_prompt, request_options=retry_policy)\n",
    "Markdown(response.text)"
   ]
  },
  {
   "cell_type": "markdown",
   "metadata": {
    "id": "ZspT1GSkjG6d"
   },
   "source": [
    "While this looks like a single-part response, you can inspect the response to see the each of the steps: initial text, code generation, execution results, and final text summary."
   ]
  },
  {
   "cell_type": "code",
   "execution_count": null,
   "metadata": {
    "id": "j4gQVzcRjRX-",
    "trusted": true
   },
   "outputs": [],
   "source": [
    "for part in response.candidates[0].content.parts:\n",
    "  print(part)\n",
    "  print(\"-----\")"
   ]
  },
  {
   "cell_type": "markdown",
   "metadata": {
    "id": "1gUX8QzCj4d5"
   },
   "source": [
    "### Explaining code\n",
    "\n",
    "The Gemini family of models can explain code to you too.\n",
    "\n",
    "<table align=left>\n",
    "  <td>\n",
    "    <a target=\"_blank\" href=\"https://aistudio.google.com/prompts/1N7LGzWzCYieyOf_7bAG4plrmkpDNmUyb\"><img src=\"https://ai.google.dev/site-assets/images/marketing/home/icon-ais.png\" style=\"height: 24px\" height=24/> Open in AI Studio</a>\n",
    "  </td>\n",
    "</table>"
   ]
  },
  {
   "cell_type": "code",
   "execution_count": null,
   "metadata": {
    "id": "7_jPMMoxkIEb",
    "trusted": true
   },
   "outputs": [],
   "source": [
    "file_contents = !curl https://raw.githubusercontent.com/magicmonty/bash-git-prompt/refs/heads/master/gitprompt.sh\n",
    "\n",
    "explain_prompt = f\"\"\"\n",
    "Please explain what this file does at a very high level. What is it, and why would I use it?\n",
    "\n",
    "```\n",
    "{file_contents}\n",
    "```\n",
    "\"\"\"\n",
    "\n",
    "model = genai.GenerativeModel('gemini-1.5-flash-latest')\n",
    "\n",
    "response = model.generate_content(explain_prompt, request_options=retry_policy)\n",
    "Markdown(response.text)"
   ]
  },
  {
   "cell_type": "markdown",
   "metadata": {
    "id": "2a8266d97ce5"
   },
   "source": [
    "## Learn more\n",
    "\n",
    "To learn more about prompting in depth:\n",
    "\n",
    "* Check out the whitepaper issued with today's content,\n",
    "* Try out the apps listed at the top of this notebook ([TextFX](https://textfx.withgoogle.com/), [SQL Talk](https://sql-talk-r5gdynozbq-uc.a.run.app/) and [NotebookLM](https://notebooklm.google/)),\n",
    "* Read the [Introduction to Prompting](https://ai.google.dev/gemini-api/docs/prompting-intro) from the Gemini API docs,\n",
    "* Explore the Gemini API's [prompt gallery](https://ai.google.dev/gemini-api/prompts) and try them out in AI Studio,\n",
    "* Check out the Gemini API cookbook for [inspirational examples](https://github.com/google-gemini/cookbook/blob/main/examples/) and [educational quickstarts](https://github.com/google-gemini/cookbook/blob/main/quickstarts/).\n",
    "\n",
    "And please share anything exciting you have tried in the Discord!"
   ]
  }
 ],
 "metadata": {
  "colab": {
   "name": "day-1-prompting.ipynb",
   "toc_visible": true
  },
  "kaggle": {
   "accelerator": "none",
   "dataSources": [],
   "dockerImageVersionId": 30786,
   "isGpuEnabled": false,
   "isInternetEnabled": true,
   "language": "python",
   "sourceType": "notebook"
  },
  "kernelspec": {
   "display_name": "Python 3",
   "language": "python",
   "name": "python3"
  },
  "language_info": {
   "codemirror_mode": {
    "name": "ipython",
    "version": 3
   },
   "file_extension": ".py",
   "mimetype": "text/x-python",
   "name": "python",
   "nbconvert_exporter": "python",
   "pygments_lexer": "ipython3",
   "version": "3.10.6"
  }
 },
 "nbformat": 4,
 "nbformat_minor": 4
}
