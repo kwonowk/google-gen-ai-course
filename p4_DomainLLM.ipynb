{
 "cells": [
  {
   "cell_type": "markdown",
   "metadata": {},
   "source": [
    "# Domain LLMs"
   ]
  },
  {
   "cell_type": "markdown",
   "metadata": {
    "id": "4KDIFPAL2EnL"
   },
   "source": [
    "# 1. Fine tuning a custom model\n",
    "\n",
    "Using Gemini API to fine-tune a custom, task-specific model. Example here is fine-tuning a model to classify the a piece of text (a newsgroun post) to its corresponding category (the news group name)\n",
    "\n",
    "[AI Studio](https://aistudio.google.com/app/tune) also supports creating new tuned models directly in the web UI, allowing a quick creation of and monitoring of models using data from Google Sheets, Drive or own files."
   ]
  },
  {
   "cell_type": "markdown",
   "metadata": {},
   "source": [
    "## Setup"
   ]
  },
  {
   "cell_type": "code",
   "execution_count": 1,
   "metadata": {
    "execution": {
     "iopub.execute_input": "2024-11-14T04:14:06.760401Z",
     "iopub.status.busy": "2024-11-14T04:14:06.759967Z",
     "iopub.status.idle": "2024-11-14T04:14:08.164595Z",
     "shell.execute_reply": "2024-11-14T04:14:08.163322Z",
     "shell.execute_reply.started": "2024-11-14T04:14:06.760357Z"
    },
    "id": "T0CBG9xL2PvT",
    "trusted": true
   },
   "outputs": [],
   "source": [
    "import google.generativeai as genai\n",
    "from env import *\n",
    "\n",
    "%load_ext autoreload\n",
    "%autoreload 2"
   ]
  },
  {
   "cell_type": "code",
   "execution_count": 2,
   "metadata": {},
   "outputs": [],
   "source": [
    "GOOGLE_API_KEY = GOOGLE_API_KEY\n",
    "genai.configure(api_key=GOOGLE_API_KEY)"
   ]
  },
  {
   "cell_type": "markdown",
   "metadata": {
    "id": "CqVA5QFO6n4z"
   },
   "source": [
    "### Explore available models\n",
    "\n",
    "[`TunedModel.create`](https://ai.google.dev/api/tuning#method:-tunedmodels.create) API method allows for fine-tuning job to create a custom model. \n",
    "\n",
    "More information on [the model tuning docs](https://ai.google.dev/gemini-api/docs/model-tuning/tutorial?lang=python)."
   ]
  },
  {
   "cell_type": "code",
   "execution_count": 3,
   "metadata": {
    "execution": {
     "iopub.execute_input": "2024-11-14T04:14:10.234461Z",
     "iopub.status.busy": "2024-11-14T04:14:10.234032Z",
     "iopub.status.idle": "2024-11-14T04:14:11.145855Z",
     "shell.execute_reply": "2024-11-14T04:14:11.14471Z",
     "shell.execute_reply.started": "2024-11-14T04:14:10.234417Z"
    },
    "id": "coEacWAB6o0G",
    "trusted": true
   },
   "outputs": [
    {
     "name": "stdout",
     "output_type": "stream",
     "text": [
      "models/gemini-1.0-pro-001\n",
      "models/gemini-1.5-flash-001-tuning\n"
     ]
    }
   ],
   "source": [
    "for model in genai.list_models():\n",
    "    if \"createTunedModel\" in model.supported_generation_methods:\n",
    "        print(model.name)"
   ]
  },
  {
   "cell_type": "markdown",
   "metadata": {
    "id": "peFm0w_0c1CO"
   },
   "source": [
    "## Download the dataset\n",
    "\n",
    "As with 'Classifying embeddings with Keras and the Gemini API' exercise from the Embedding part, newsgroups dataset is used to train the model, this time with a fine-tuned Gemini model. "
   ]
  },
  {
   "cell_type": "code",
   "execution_count": 20,
   "metadata": {},
   "outputs": [
    {
     "name": "stdout",
     "output_type": "stream",
     "text": [
      "Requirement already satisfied: scikit-learn in ./.venv/lib/python3.10/site-packages (1.5.2)\n",
      "Requirement already satisfied: numpy>=1.19.5 in ./.venv/lib/python3.10/site-packages (from scikit-learn) (2.1.3)\n",
      "Requirement already satisfied: scipy>=1.6.0 in ./.venv/lib/python3.10/site-packages (from scikit-learn) (1.14.1)\n",
      "Requirement already satisfied: joblib>=1.2.0 in ./.venv/lib/python3.10/site-packages (from scikit-learn) (1.4.2)\n",
      "Requirement already satisfied: threadpoolctl>=3.1.0 in ./.venv/lib/python3.10/site-packages (from scikit-learn) (3.5.0)\n",
      "Requirement already satisfied: pandas in ./.venv/lib/python3.10/site-packages (2.2.3)\n",
      "Requirement already satisfied: numpy>=1.22.4 in ./.venv/lib/python3.10/site-packages (from pandas) (2.1.3)\n",
      "Requirement already satisfied: python-dateutil>=2.8.2 in ./.venv/lib/python3.10/site-packages (from pandas) (2.9.0.post0)\n",
      "Requirement already satisfied: pytz>=2020.1 in ./.venv/lib/python3.10/site-packages (from pandas) (2024.2)\n",
      "Requirement already satisfied: tzdata>=2022.7 in ./.venv/lib/python3.10/site-packages (from pandas) (2024.2)\n",
      "Requirement already satisfied: six>=1.5 in ./.venv/lib/python3.10/site-packages (from python-dateutil>=2.8.2->pandas) (1.16.0)\n",
      "Requirement already satisfied: tqdm in ./.venv/lib/python3.10/site-packages (4.67.1)\n"
     ]
    }
   ],
   "source": [
    "!pip install scikit-learn\n",
    "! pip install pandas\n",
    "! pip install tqdm"
   ]
  },
  {
   "cell_type": "code",
   "execution_count": 8,
   "metadata": {
    "execution": {
     "iopub.execute_input": "2024-11-14T04:14:11.975118Z",
     "iopub.status.busy": "2024-11-14T04:14:11.97468Z",
     "iopub.status.idle": "2024-11-14T04:14:36.829367Z",
     "shell.execute_reply": "2024-11-14T04:14:36.828183Z",
     "shell.execute_reply.started": "2024-11-14T04:14:11.975073Z"
    },
    "id": "bX_kpgnQ9b-Z",
    "trusted": true
   },
   "outputs": [
    {
     "data": {
      "text/plain": [
       "['alt.atheism',\n",
       " 'comp.graphics',\n",
       " 'comp.os.ms-windows.misc',\n",
       " 'comp.sys.ibm.pc.hardware',\n",
       " 'comp.sys.mac.hardware',\n",
       " 'comp.windows.x',\n",
       " 'misc.forsale',\n",
       " 'rec.autos',\n",
       " 'rec.motorcycles',\n",
       " 'rec.sport.baseball',\n",
       " 'rec.sport.hockey',\n",
       " 'sci.crypt',\n",
       " 'sci.electronics',\n",
       " 'sci.med',\n",
       " 'sci.space',\n",
       " 'soc.religion.christian',\n",
       " 'talk.politics.guns',\n",
       " 'talk.politics.mideast',\n",
       " 'talk.politics.misc',\n",
       " 'talk.religion.misc']"
      ]
     },
     "execution_count": 8,
     "metadata": {},
     "output_type": "execute_result"
    }
   ],
   "source": [
    "from sklearn.datasets import fetch_20newsgroups\n",
    "\n",
    "newsgroups_train = fetch_20newsgroups(subset=\"train\")\n",
    "newsgroups_test = fetch_20newsgroups(subset=\"test\")\n",
    "\n",
    "# View list of class names for dataset\n",
    "newsgroups_train.target_names"
   ]
  },
  {
   "cell_type": "code",
   "execution_count": 9,
   "metadata": {
    "execution": {
     "iopub.execute_input": "2024-11-14T04:14:36.832629Z",
     "iopub.status.busy": "2024-11-14T04:14:36.831971Z",
     "iopub.status.idle": "2024-11-14T04:14:36.8445Z",
     "shell.execute_reply": "2024-11-14T04:14:36.83826Z",
     "shell.execute_reply.started": "2024-11-14T04:14:36.832513Z"
    },
    "id": "EtEXcdT39hCB",
    "trusted": true
   },
   "outputs": [
    {
     "name": "stdout",
     "output_type": "stream",
     "text": [
      "From: lerxst@wam.umd.edu (where's my thing)\n",
      "Subject: WHAT car is this!?\n",
      "Nntp-Posting-Host: rac3.wam.umd.edu\n",
      "Organization: University of Maryland, College Park\n",
      "Lines: 15\n",
      "\n",
      " I was wondering if anyone out there could enlighten me on this car I saw\n",
      "the other day. It was a 2-door sports car, looked to be from the late 60s/\n",
      "early 70s. It was called a Bricklin. The doors were really small. In addition,\n",
      "the front bumper was separate from the rest of the body. This is \n",
      "all I know. If anyone can tellme a model name, engine specs, years\n",
      "of production, where this car is made, history, or whatever info you\n",
      "have on this funky looking car, please e-mail.\n",
      "\n",
      "Thanks,\n",
      "- IL\n",
      "   ---- brought to you by your neighborhood Lerxst ----\n",
      "\n",
      "\n",
      "\n",
      "\n",
      "\n"
     ]
    }
   ],
   "source": [
    "print(newsgroups_train.data[0])"
   ]
  },
  {
   "cell_type": "markdown",
   "metadata": {
    "id": "03lDs1O4ZQ0-"
   },
   "source": [
    "## Prepare the dataset\n",
    "\n",
    "Same pre-proccessing as the previous exercise. \n",
    "- Removes personal information,\n",
    "- Removes mail headers make the text appear more like regular text, avoiding the model to be over-depend on specific fields."
   ]
  },
  {
   "cell_type": "code",
   "execution_count": 12,
   "metadata": {
    "execution": {
     "iopub.execute_input": "2024-11-14T04:14:36.84685Z",
     "iopub.status.busy": "2024-11-14T04:14:36.846124Z",
     "iopub.status.idle": "2024-11-14T04:14:37.375175Z",
     "shell.execute_reply": "2024-11-14T04:14:37.37394Z",
     "shell.execute_reply.started": "2024-11-14T04:14:36.846794Z"
    },
    "id": "IoNYTxpoZgB0",
    "trusted": true
   },
   "outputs": [],
   "source": [
    "import email\n",
    "import re\n",
    "\n",
    "import pandas as pd\n",
    "\n",
    "\n",
    "def preprocess_newsgroup_row(data):\n",
    "    # Extract only the subject and body\n",
    "    msg = email.message_from_string(data)\n",
    "    text = f\"{msg['Subject']}\\n\\n{msg.get_payload()}\"\n",
    "    # Strip any remaining email addresses\n",
    "    text = re.sub(r\"[\\w\\.-]+@[\\w\\.-]+\", \"\", text)\n",
    "    # Truncate the text to fit within the input limits\n",
    "    text = text[:40000]\n",
    "\n",
    "    return text\n",
    "\n",
    "\n",
    "def preprocess_newsgroup_data(newsgroup_dataset):\n",
    "    # Put data points into dataframe\n",
    "    df = pd.DataFrame(\n",
    "        {\"Text\": newsgroup_dataset.data, \"Label\": newsgroup_dataset.target}\n",
    "    )\n",
    "    # Clean up the text\n",
    "    df[\"Text\"] = df[\"Text\"].apply(preprocess_newsgroup_row)\n",
    "    # Match label to target name index\n",
    "    df[\"Class Name\"] = df[\"Label\"].map(lambda l: newsgroup_dataset.target_names[l])\n",
    "\n",
    "    return df"
   ]
  },
  {
   "cell_type": "code",
   "execution_count": 13,
   "metadata": {
    "execution": {
     "iopub.execute_input": "2024-11-14T04:14:37.378262Z",
     "iopub.status.busy": "2024-11-14T04:14:37.377698Z",
     "iopub.status.idle": "2024-11-14T04:14:44.024746Z",
     "shell.execute_reply": "2024-11-14T04:14:44.023465Z",
     "shell.execute_reply.started": "2024-11-14T04:14:37.37822Z"
    },
    "id": "kvOsUSRWaW4g",
    "trusted": true
   },
   "outputs": [
    {
     "data": {
      "text/html": [
       "<div>\n",
       "<style scoped>\n",
       "    .dataframe tbody tr th:only-of-type {\n",
       "        vertical-align: middle;\n",
       "    }\n",
       "\n",
       "    .dataframe tbody tr th {\n",
       "        vertical-align: top;\n",
       "    }\n",
       "\n",
       "    .dataframe thead th {\n",
       "        text-align: right;\n",
       "    }\n",
       "</style>\n",
       "<table border=\"1\" class=\"dataframe\">\n",
       "  <thead>\n",
       "    <tr style=\"text-align: right;\">\n",
       "      <th></th>\n",
       "      <th>Text</th>\n",
       "      <th>Label</th>\n",
       "      <th>Class Name</th>\n",
       "    </tr>\n",
       "  </thead>\n",
       "  <tbody>\n",
       "    <tr>\n",
       "      <th>0</th>\n",
       "      <td>WHAT car is this!?\\n\\n I was wondering if anyo...</td>\n",
       "      <td>7</td>\n",
       "      <td>rec.autos</td>\n",
       "    </tr>\n",
       "    <tr>\n",
       "      <th>1</th>\n",
       "      <td>SI Clock Poll - Final Call\\n\\nA fair number of...</td>\n",
       "      <td>4</td>\n",
       "      <td>comp.sys.mac.hardware</td>\n",
       "    </tr>\n",
       "    <tr>\n",
       "      <th>2</th>\n",
       "      <td>PB questions...\\n\\nwell folks, my mac plus fin...</td>\n",
       "      <td>4</td>\n",
       "      <td>comp.sys.mac.hardware</td>\n",
       "    </tr>\n",
       "    <tr>\n",
       "      <th>3</th>\n",
       "      <td>Re: Weitek P9000 ?\\n\\nRobert J.C. Kyanko () wr...</td>\n",
       "      <td>1</td>\n",
       "      <td>comp.graphics</td>\n",
       "    </tr>\n",
       "    <tr>\n",
       "      <th>4</th>\n",
       "      <td>Re: Shuttle Launch Question\\n\\nFrom article &lt;&gt;...</td>\n",
       "      <td>14</td>\n",
       "      <td>sci.space</td>\n",
       "    </tr>\n",
       "  </tbody>\n",
       "</table>\n",
       "</div>"
      ],
      "text/plain": [
       "                                                Text  Label  \\\n",
       "0  WHAT car is this!?\\n\\n I was wondering if anyo...      7   \n",
       "1  SI Clock Poll - Final Call\\n\\nA fair number of...      4   \n",
       "2  PB questions...\\n\\nwell folks, my mac plus fin...      4   \n",
       "3  Re: Weitek P9000 ?\\n\\nRobert J.C. Kyanko () wr...      1   \n",
       "4  Re: Shuttle Launch Question\\n\\nFrom article <>...     14   \n",
       "\n",
       "              Class Name  \n",
       "0              rec.autos  \n",
       "1  comp.sys.mac.hardware  \n",
       "2  comp.sys.mac.hardware  \n",
       "3          comp.graphics  \n",
       "4              sci.space  "
      ]
     },
     "execution_count": 13,
     "metadata": {},
     "output_type": "execute_result"
    }
   ],
   "source": [
    "# Apply preprocessing to training and test datasets\n",
    "df_train = preprocess_newsgroup_data(newsgroups_train)\n",
    "df_test = preprocess_newsgroup_data(newsgroups_test)\n",
    "\n",
    "df_train.head()"
   ]
  },
  {
   "cell_type": "markdown",
   "metadata": {
    "id": "XSKcj5WtadaR"
   },
   "source": [
    "Now sample the data. Keeping 50 rows for each category for training. Note that this is even fewer than the Keras example, as this technique (parameter-efficient fine-tuning, or PEFT) updates a relatively small number of parameters and does not require training a new model or updating the large model."
   ]
  },
  {
   "cell_type": "code",
   "execution_count": 14,
   "metadata": {
    "execution": {
     "iopub.execute_input": "2024-11-14T04:14:44.026572Z",
     "iopub.status.busy": "2024-11-14T04:14:44.026123Z",
     "iopub.status.idle": "2024-11-14T04:14:44.082828Z",
     "shell.execute_reply": "2024-11-14T04:14:44.0816Z",
     "shell.execute_reply.started": "2024-11-14T04:14:44.026509Z"
    },
    "id": "0t9Xu6X5akkt",
    "trusted": true
   },
   "outputs": [],
   "source": [
    "def sample_data(df, num_samples, classes_to_keep):\n",
    "    # Sample rows, selecting num_samples of each Label.\n",
    "    df = (\n",
    "        df.groupby(\"Label\")[df.columns]\n",
    "        .apply(lambda x: x.sample(num_samples))\n",
    "        .reset_index(drop=True)\n",
    "    )\n",
    "\n",
    "    df = df[df[\"Class Name\"].str.contains(classes_to_keep)]\n",
    "    df[\"Class Name\"] = df[\"Class Name\"].astype(\"category\")\n",
    "\n",
    "    return df\n",
    "\n",
    "\n",
    "TRAIN_NUM_SAMPLES = 50\n",
    "TEST_NUM_SAMPLES = 10\n",
    "# Keep rec.* and sci.*\n",
    "CLASSES_TO_KEEP = \"^rec|^sci\"\n",
    "\n",
    "df_train = sample_data(df_train, TRAIN_NUM_SAMPLES, CLASSES_TO_KEEP)\n",
    "df_test = sample_data(df_test, TEST_NUM_SAMPLES, CLASSES_TO_KEEP)"
   ]
  },
  {
   "cell_type": "markdown",
   "metadata": {},
   "source": [
    "## Evaluate baseline performance\n",
    "\n",
    "it's good practice to perform an evaluatio before start tuning a model, to compare difference after tuning.\n",
    "\n",
    "First identify a single sample row to use for visual inspection."
   ]
  },
  {
   "cell_type": "code",
   "execution_count": 15,
   "metadata": {
    "execution": {
     "iopub.execute_input": "2024-11-14T04:14:44.084801Z",
     "iopub.status.busy": "2024-11-14T04:14:44.084283Z",
     "iopub.status.idle": "2024-11-14T04:14:44.092623Z",
     "shell.execute_reply": "2024-11-14T04:14:44.09141Z",
     "shell.execute_reply.started": "2024-11-14T04:14:44.084747Z"
    },
    "trusted": true
   },
   "outputs": [
    {
     "name": "stdout",
     "output_type": "stream",
     "text": [
      "Need info on 88-89 Bonneville\n",
      "\n",
      "\n",
      " I am a little confused on all of the models of the 88-89 bonnevilles.\n",
      "I have heard of the LE SE LSE SSE SSEI. Could someone tell me the\n",
      "differences are far as features or performance. I am also curious to\n",
      "know what the book value is for prefereably the 89 model. And how much\n",
      "less than book value can you usually get them for. In other words how\n",
      "much are they in demand this time of year. I have heard that the mid-spring\n",
      "early summer is the best time to buy.\n",
      "\n",
      "\t\t\tNeil Gandler\n",
      "\n",
      "---\n",
      "Label: rec.autos\n"
     ]
    }
   ],
   "source": [
    "sample_idx = 0\n",
    "sample_row = preprocess_newsgroup_row(newsgroups_test.data[sample_idx])\n",
    "sample_label = newsgroups_test.target_names[newsgroups_test.target[sample_idx]]\n",
    "\n",
    "print(sample_row)\n",
    "print('---')\n",
    "print('Label:', sample_label)"
   ]
  },
  {
   "cell_type": "markdown",
   "metadata": {},
   "source": [
    "Passing the text directly in as a prompt does not yield the desired results. The model will attempt to respond to the message."
   ]
  },
  {
   "cell_type": "code",
   "execution_count": 16,
   "metadata": {
    "execution": {
     "iopub.execute_input": "2024-11-14T04:16:08.130068Z",
     "iopub.status.busy": "2024-11-14T04:16:08.12949Z",
     "iopub.status.idle": "2024-11-14T04:16:12.084133Z",
     "shell.execute_reply": "2024-11-14T04:16:12.083069Z",
     "shell.execute_reply.started": "2024-11-14T04:16:08.130023Z"
    },
    "trusted": true
   },
   "outputs": [
    {
     "name": "stdout",
     "output_type": "stream",
     "text": [
      "You're right to be confused! The 1988-1989 Pontiac Bonnevilles had a dizzying array of trim levels, each with its own unique features and performance characteristics. Here's a breakdown:\n",
      "\n",
      "**1988-1989 Bonneville Trim Levels**\n",
      "\n",
      "* **Base:** The most basic model, featuring a 3.8L V6 engine, cloth upholstery, and minimal features.\n",
      "* **LE:** The \"Luxury Edition\" offered a more upscale interior with plusher seating, woodgrain accents, and power accessories. It still came with the 3.8L V6.\n",
      "* **SE:** The \"Sport Edition\" offered a more performance-oriented feel with sportier styling, a 5.0L V8 engine, and a slightly firmer suspension.\n",
      "* **LSE:**  A blend of luxury and sport, the \"Luxury Sport Edition\" combined the SE's V8 with the LE's plush interior and features.\n",
      "* **SSE:** The \"Sport Sedan Edition\" was the top-of-the-line performance model, featuring a 3.8L Turbocharged V6 engine, a unique body kit, and performance suspension tuning.\n",
      "* **SSEi:**  \"Sport Sedan Edition, Injected\"  This trim level was similar to the SSE, but featured fuel injection on its turbocharged 3.8L V6 engine for improved performance.\n",
      "\n",
      "**Performance and Features Breakdown**\n",
      "\n",
      "| Trim Level | Engine | Transmission | Features |\n",
      "|---|---|---|---|\n",
      "| Base | 3.8L V6 | 3-speed automatic |  |\n",
      "| LE | 3.8L V6 | 3-speed automatic | Power accessories, woodgrain accents, plusher interior |\n",
      "| SE | 5.0L V8 | 4-speed automatic |  |\n",
      "| LSE | 5.0L V8 | 4-speed automatic | Power accessories, woodgrain accents, plusher interior |\n",
      "| SSE | 3.8L Turbocharged V6 | 4-speed automatic |  |\n",
      "| SSEi | 3.8L Turbocharged V6 (fuel injected) | 4-speed automatic |  |\n",
      "\n",
      "**Book Value and Demand**\n",
      "\n",
      "It's difficult to give an exact book value for a 1989 Bonneville.  The price depends heavily on its condition, mileage, and trim level.  Resources like Kelley Blue Book (KBB) and Edmunds provide online tools to estimate a car's value.\n",
      "\n",
      "**Demand and Buying Strategies**\n",
      "\n",
      "1989 Bonnevilles are not in high demand right now. The car market is saturated with more modern options.  While mid-spring to early summer is often considered a good time to buy,  you might find better deals during other times of the year, especially if the car has been sitting on a lot for a while. \n",
      "\n",
      "**Negotiating the Price**\n",
      "\n",
      "* **Research thoroughly:** Know the fair market value using resources like KBB.\n",
      "* **Shop around:** Compare prices from multiple sellers to find the best deal.\n",
      "* **Be prepared to walk away:** If the price isn't right, don't be afraid to walk away.\n",
      "* **Negotiate firmly but politely:** Start with a lower offer than your target price.\n",
      "* **Consider any repairs needed:** If the car needs work, factor that into your offer.\n",
      "\n",
      "**Before you buy any 1989 Bonneville:**\n",
      "\n",
      "* **Get a pre-purchase inspection:** This will help identify any potential problems that could cost you money later.\n",
      "* **Check the car's history report:** You can use services like Carfax or AutoCheck to see if the car has been in any accidents or has had major repairs.\n",
      "\n",
      "Remember, it's best to find a car that has been well-maintained and has a clean history.  With a little research and patience, you can find a great deal on a 1989 Bonneville.\n",
      "\n"
     ]
    }
   ],
   "source": [
    "baseline_model = genai.GenerativeModel(\"gemini-1.5-flash-001\")\n",
    "response = baseline_model.generate_content(sample_row)\n",
    "print(response.text)"
   ]
  },
  {
   "cell_type": "markdown",
   "metadata": {},
   "source": [
    "The idea is to use the prompt engineering techniques to induce the model to perform the desired task."
   ]
  },
  {
   "cell_type": "code",
   "execution_count": 17,
   "metadata": {
    "execution": {
     "iopub.execute_input": "2024-11-14T03:24:24.651492Z",
     "iopub.status.busy": "2024-11-14T03:24:24.651093Z",
     "iopub.status.idle": "2024-11-14T03:24:26.256592Z",
     "shell.execute_reply": "2024-11-14T03:24:26.255455Z",
     "shell.execute_reply.started": "2024-11-14T03:24:24.65145Z"
    },
    "trusted": true
   },
   "outputs": [
    {
     "name": "stdout",
     "output_type": "stream",
     "text": [
      "This message most likely originates from a **Buick-specific newsgroup**, such as:\n",
      "\n",
      "* **alt.autos.buick**\n",
      "* **rec.autos.buick**\n",
      "\n",
      "These newsgroups would be frequented by Buick enthusiasts and owners, making it the ideal place to ask for information about specific models like the 1988-1989 Bonneville. \n",
      "\n"
     ]
    }
   ],
   "source": [
    "# Ask the model directly in a zero-shot prompt.\n",
    "\n",
    "prompt = \"From what newsgroup does the following message originate?\"\n",
    "baseline_response = baseline_model.generate_content([prompt, sample_row])\n",
    "print(baseline_response.text)"
   ]
  },
  {
   "cell_type": "markdown",
   "metadata": {},
   "source": [
    "That technique produces quite a verbose response. Refining prompt further."
   ]
  },
  {
   "cell_type": "code",
   "execution_count": 18,
   "metadata": {
    "execution": {
     "iopub.execute_input": "2024-11-14T03:25:26.592865Z",
     "iopub.status.busy": "2024-11-14T03:25:26.592373Z",
     "iopub.status.idle": "2024-11-14T03:25:26.967718Z",
     "shell.execute_reply": "2024-11-14T03:25:26.966458Z",
     "shell.execute_reply.started": "2024-11-14T03:25:26.592818Z"
    },
    "trusted": true
   },
   "outputs": [
    {
     "name": "stdout",
     "output_type": "stream",
     "text": [
      "rec.autos.misc\n",
      "\n",
      "Incorrect.\n"
     ]
    }
   ],
   "source": [
    "from google.api_core import retry\n",
    "\n",
    "# You can use a system instruction to do more direct prompting, and get a\n",
    "# more succinct answer.\n",
    "\n",
    "system_instruct = \"\"\"\n",
    "You are a classification service. You will be passed input that represents\n",
    "a newsgroup post and you must respond with the newsgroup from which the post\n",
    "originates.\n",
    "\"\"\"\n",
    "\n",
    "instructed_model = genai.GenerativeModel(\"gemini-1.5-flash-001\",\n",
    "                                         system_instruction=system_instruct)\n",
    "\n",
    "retry_policy = {\"retry\": retry.Retry(predicate=retry.if_transient_error)}\n",
    "\n",
    "# If you want to evaluate your own technique, replace this function with your\n",
    "# model, prompt and other code and return the predicted answer.\n",
    "def predict_label(post: str) -> str:\n",
    "    response = instructed_model.generate_content(post, request_options=retry_policy)\n",
    "    rc = response.candidates[0]\n",
    "\n",
    "    # Any errors, filters, recitation, etc we can mark as a general error\n",
    "    if rc.finish_reason.name != \"STOP\":\n",
    "        return \"(error)\"\n",
    "    else:\n",
    "        # Clean up the response.\n",
    "        return response.text.strip()\n",
    "\n",
    "\n",
    "prediction = predict_label(sample_row)\n",
    "\n",
    "print(prediction)\n",
    "print()\n",
    "print(\"Correct!\" if prediction == sample_label else \"Incorrect.\")"
   ]
  },
  {
   "cell_type": "markdown",
   "metadata": {},
   "source": [
    "Now run a short evaluation using the function defined above. The test set is further sampled to ensure the experiment runs smoothly on the API's free tier. In practice the evaluation should be donw of the whole data set."
   ]
  },
  {
   "cell_type": "code",
   "execution_count": 24,
   "metadata": {
    "execution": {
     "iopub.execute_input": "2024-11-14T03:25:34.365585Z",
     "iopub.status.busy": "2024-11-14T03:25:34.365059Z",
     "iopub.status.idle": "2024-11-14T03:25:40.214328Z",
     "shell.execute_reply": "2024-11-14T03:25:40.213224Z",
     "shell.execute_reply.started": "2024-11-14T03:25:34.365535Z"
    },
    "trusted": true
   },
   "outputs": [
    {
     "data": {
      "application/vnd.jupyter.widget-view+json": {
       "model_id": "d1cbcead7f0f43b295663f8419db1c5e",
       "version_major": 2,
       "version_minor": 0
      },
      "text/plain": [
       "Output()"
      ]
     },
     "metadata": {},
     "output_type": "display_data"
    },
    {
     "name": "stderr",
     "output_type": "stream",
     "text": [
      "/home/kwonowk/code/kwonowk/Projects/google-gen-ai-course/.venv/lib/python3.10/site-packages/tqdm/std.py:885: TqdmExperimentalWarning: rich is experimental/alpha\n",
      "  t = cls(total=total, **tqdm_kwargs)\n"
     ]
    },
    {
     "data": {
      "text/html": [
       "<pre style=\"white-space:pre;overflow-x:auto;line-height:normal;font-family:Menlo,'DejaVu Sans Mono',consolas,'Courier New',monospace\"></pre>\n"
      ],
      "text/plain": []
     },
     "metadata": {},
     "output_type": "display_data"
    },
    {
     "name": "stdout",
     "output_type": "stream",
     "text": [
      "Accuracy: 25.00%\n"
     ]
    }
   ],
   "source": [
    "from tqdm.rich import tqdm\n",
    "\n",
    "tqdm.pandas()\n",
    "\n",
    "\n",
    "# Further sample the test data to be mindful of the free-tier quota.\n",
    "df_baseline_eval = sample_data(df_test, 2, '.*')\n",
    "\n",
    "# Make predictions using the sampled data.\n",
    "df_baseline_eval['Prediction'] = df_baseline_eval['Text'].progress_apply(predict_label)\n",
    "\n",
    "# And calculate the accuracy.\n",
    "accuracy = (df_baseline_eval[\"Class Name\"] == df_baseline_eval[\"Prediction\"]).sum() / len(df_baseline_eval)\n",
    "print(f\"Accuracy: {accuracy:.2%}\")"
   ]
  },
  {
   "cell_type": "markdown",
   "metadata": {},
   "source": [
    "Now take a look at the dataframe to compare the predictions with the labels."
   ]
  },
  {
   "cell_type": "code",
   "execution_count": 25,
   "metadata": {
    "execution": {
     "iopub.execute_input": "2024-11-14T03:25:44.278719Z",
     "iopub.status.busy": "2024-11-14T03:25:44.278198Z",
     "iopub.status.idle": "2024-11-14T03:25:44.294014Z",
     "shell.execute_reply": "2024-11-14T03:25:44.292877Z",
     "shell.execute_reply.started": "2024-11-14T03:25:44.278653Z"
    },
    "trusted": true
   },
   "outputs": [
    {
     "data": {
      "text/html": [
       "<div>\n",
       "<style scoped>\n",
       "    .dataframe tbody tr th:only-of-type {\n",
       "        vertical-align: middle;\n",
       "    }\n",
       "\n",
       "    .dataframe tbody tr th {\n",
       "        vertical-align: top;\n",
       "    }\n",
       "\n",
       "    .dataframe thead th {\n",
       "        text-align: right;\n",
       "    }\n",
       "</style>\n",
       "<table border=\"1\" class=\"dataframe\">\n",
       "  <thead>\n",
       "    <tr style=\"text-align: right;\">\n",
       "      <th></th>\n",
       "      <th>Text</th>\n",
       "      <th>Label</th>\n",
       "      <th>Class Name</th>\n",
       "      <th>Prediction</th>\n",
       "    </tr>\n",
       "  </thead>\n",
       "  <tbody>\n",
       "    <tr>\n",
       "      <th>0</th>\n",
       "      <td>Manual Xmission-Advice needed...\\n\\nI have man...</td>\n",
       "      <td>7</td>\n",
       "      <td>rec.autos</td>\n",
       "      <td>rec.autos.tech</td>\n",
       "    </tr>\n",
       "    <tr>\n",
       "      <th>1</th>\n",
       "      <td>Lexus and Infiniti\\n\\nFirst off, the correct s...</td>\n",
       "      <td>7</td>\n",
       "      <td>rec.autos</td>\n",
       "      <td>rec.autos.misc</td>\n",
       "    </tr>\n",
       "    <tr>\n",
       "      <th>2</th>\n",
       "      <td>Re: Type spesifications (CB, VFR, GT, etc.)\\n\\...</td>\n",
       "      <td>8</td>\n",
       "      <td>rec.motorcycles</td>\n",
       "      <td>rec.motorcycles</td>\n",
       "    </tr>\n",
       "    <tr>\n",
       "      <th>3</th>\n",
       "      <td>Volvo Attack!\\n\\nI was privelged enough to exp...</td>\n",
       "      <td>8</td>\n",
       "      <td>rec.motorcycles</td>\n",
       "      <td>rec.motorcycles</td>\n",
       "    </tr>\n",
       "    <tr>\n",
       "      <th>4</th>\n",
       "      <td>I am right!  No, *I* am right!  (was Re: BOB K...</td>\n",
       "      <td>9</td>\n",
       "      <td>rec.sport.baseball</td>\n",
       "      <td>rec.sports.baseball</td>\n",
       "    </tr>\n",
       "    <tr>\n",
       "      <th>5</th>\n",
       "      <td>The Babe v. The Pride of the Yankees\\n\\n\\nThe ...</td>\n",
       "      <td>9</td>\n",
       "      <td>rec.sport.baseball</td>\n",
       "      <td>rec.movies.reviews</td>\n",
       "    </tr>\n",
       "    <tr>\n",
       "      <th>6</th>\n",
       "      <td>Re: Trivia question\\n\\n  The goalie to whom yo...</td>\n",
       "      <td>10</td>\n",
       "      <td>rec.sport.hockey</td>\n",
       "      <td>rec.sport.hockey</td>\n",
       "    </tr>\n",
       "    <tr>\n",
       "      <th>7</th>\n",
       "      <td>Re: Pens fans reactions\\n\\n\\n&gt;I'm really impre...</td>\n",
       "      <td>10</td>\n",
       "      <td>rec.sport.hockey</td>\n",
       "      <td>rec.sports.hockey</td>\n",
       "    </tr>\n",
       "    <tr>\n",
       "      <th>8</th>\n",
       "      <td>Re: Why the clipper algorithm is secret\\n\\nIn ...</td>\n",
       "      <td>11</td>\n",
       "      <td>sci.crypt</td>\n",
       "      <td>(error)</td>\n",
       "    </tr>\n",
       "    <tr>\n",
       "      <th>9</th>\n",
       "      <td>Re: Screw the people, crypto is for hard-core ...</td>\n",
       "      <td>11</td>\n",
       "      <td>sci.crypt</td>\n",
       "      <td>(error)</td>\n",
       "    </tr>\n",
       "    <tr>\n",
       "      <th>10</th>\n",
       "      <td>descrambling channels\\n\\nI live up in British ...</td>\n",
       "      <td>12</td>\n",
       "      <td>sci.electronics</td>\n",
       "      <td>alt.cable</td>\n",
       "    </tr>\n",
       "    <tr>\n",
       "      <th>11</th>\n",
       "      <td>Re: How to the disks copy protected.\\n\\n&gt;  (Er...</td>\n",
       "      <td>12</td>\n",
       "      <td>sci.electronics</td>\n",
       "      <td>comp.software.misc</td>\n",
       "    </tr>\n",
       "    <tr>\n",
       "      <th>12</th>\n",
       "      <td>Re: Pregnency without sex?\\n\\nSpeaking of educ...</td>\n",
       "      <td>13</td>\n",
       "      <td>sci.med</td>\n",
       "      <td>alt.atheism</td>\n",
       "    </tr>\n",
       "    <tr>\n",
       "      <th>13</th>\n",
       "      <td>Athlete's Heart\\n\\nI've read that exercise mak...</td>\n",
       "      <td>13</td>\n",
       "      <td>sci.med</td>\n",
       "      <td>rec.sport.running</td>\n",
       "    </tr>\n",
       "    <tr>\n",
       "      <th>14</th>\n",
       "      <td>Re: Philosophy Quest.  How Boldly?\\n\\nIn artic...</td>\n",
       "      <td>14</td>\n",
       "      <td>sci.space</td>\n",
       "      <td>sci.space</td>\n",
       "    </tr>\n",
       "    <tr>\n",
       "      <th>15</th>\n",
       "      <td>Re: HST Servicing Mission Scheduled for 11 Day...</td>\n",
       "      <td>14</td>\n",
       "      <td>sci.space</td>\n",
       "      <td>misc.space</td>\n",
       "    </tr>\n",
       "  </tbody>\n",
       "</table>\n",
       "</div>"
      ],
      "text/plain": [
       "                                                 Text  Label  \\\n",
       "0   Manual Xmission-Advice needed...\\n\\nI have man...      7   \n",
       "1   Lexus and Infiniti\\n\\nFirst off, the correct s...      7   \n",
       "2   Re: Type spesifications (CB, VFR, GT, etc.)\\n\\...      8   \n",
       "3   Volvo Attack!\\n\\nI was privelged enough to exp...      8   \n",
       "4   I am right!  No, *I* am right!  (was Re: BOB K...      9   \n",
       "5   The Babe v. The Pride of the Yankees\\n\\n\\nThe ...      9   \n",
       "6   Re: Trivia question\\n\\n  The goalie to whom yo...     10   \n",
       "7   Re: Pens fans reactions\\n\\n\\n>I'm really impre...     10   \n",
       "8   Re: Why the clipper algorithm is secret\\n\\nIn ...     11   \n",
       "9   Re: Screw the people, crypto is for hard-core ...     11   \n",
       "10  descrambling channels\\n\\nI live up in British ...     12   \n",
       "11  Re: How to the disks copy protected.\\n\\n>  (Er...     12   \n",
       "12  Re: Pregnency without sex?\\n\\nSpeaking of educ...     13   \n",
       "13  Athlete's Heart\\n\\nI've read that exercise mak...     13   \n",
       "14  Re: Philosophy Quest.  How Boldly?\\n\\nIn artic...     14   \n",
       "15  Re: HST Servicing Mission Scheduled for 11 Day...     14   \n",
       "\n",
       "            Class Name           Prediction  \n",
       "0            rec.autos       rec.autos.tech  \n",
       "1            rec.autos       rec.autos.misc  \n",
       "2      rec.motorcycles      rec.motorcycles  \n",
       "3      rec.motorcycles      rec.motorcycles  \n",
       "4   rec.sport.baseball  rec.sports.baseball  \n",
       "5   rec.sport.baseball   rec.movies.reviews  \n",
       "6     rec.sport.hockey     rec.sport.hockey  \n",
       "7     rec.sport.hockey    rec.sports.hockey  \n",
       "8            sci.crypt              (error)  \n",
       "9            sci.crypt              (error)  \n",
       "10     sci.electronics            alt.cable  \n",
       "11     sci.electronics   comp.software.misc  \n",
       "12             sci.med          alt.atheism  \n",
       "13             sci.med    rec.sport.running  \n",
       "14           sci.space            sci.space  \n",
       "15           sci.space           misc.space  "
      ]
     },
     "execution_count": 25,
     "metadata": {},
     "output_type": "execute_result"
    }
   ],
   "source": [
    "df_baseline_eval"
   ]
  },
  {
   "cell_type": "markdown",
   "metadata": {
    "id": "Ok7ugrLzcghX"
   },
   "source": [
    "## Tune a custom model\n",
    "\n",
    "In this part of the example, a model is created by tuning, without the need for prompting or system instructions.\n",
    "\n",
    "The data contains both input text (the processed posts) and output text (the category, or newsgroup), which can be used to start tuning a model.\n",
    "\n",
    "The Gemini Python SDK for tuning supports Pandas dataframes as input, so there is no need for any custom data generators or pipelines. Just specifying the input and the relevant columns as the `input_key` and `output_key` suffice.\n",
    "\n",
    "Below model hyperparameters can be specified when calling `create_tuned_model`:\n",
    " - `epoch_count`: defines how many times to loop through the data,\n",
    " - `batch_size`: defines how many rows to process in a single step, and\n",
    " - `learning_rate`: defines the scaling factor for updating model weights at each step.\n",
    "\n",
    "Omitting them result in using default values. [Learn more](https://developers.google.com/machine-learning/crash-course/linear-regression/hyperparameters) For this example these parameters were selected by running some tuning jobs and selecting parameters that were both effective and quick."
   ]
  },
  {
   "cell_type": "code",
   "execution_count": 26,
   "metadata": {
    "execution": {
     "iopub.execute_input": "2024-11-14T03:26:04.861814Z",
     "iopub.status.busy": "2024-11-14T03:26:04.861269Z",
     "iopub.status.idle": "2024-11-14T03:26:05.712733Z",
     "shell.execute_reply": "2024-11-14T03:26:05.711402Z",
     "shell.execute_reply.started": "2024-11-14T03:26:04.861768Z"
    },
    "id": "pWOZlspfY8dV",
    "trusted": true
   },
   "outputs": [
    {
     "name": "stdout",
     "output_type": "stream",
     "text": [
      "newsgroup-classifier-93005\n"
     ]
    }
   ],
   "source": [
    "from collections.abc import Iterable\n",
    "import random\n",
    "\n",
    "\n",
    "# Append a random number to the model ID so you can re-run with a higher chance\n",
    "# of creating a unique model ID.\n",
    "model_id = f\"newsgroup-classifier-{random.randint(10000, 99999)}\"\n",
    "\n",
    "# Upload the training data and queue the tuning job.\n",
    "tuning_op = genai.create_tuned_model(\n",
    "    \"models/gemini-1.5-flash-001-tuning\",\n",
    "    training_data=df_train,\n",
    "    input_key=\"Text\",  # the column to use as input\n",
    "    output_key=\"Class Name\",  # the column to use as output\n",
    "    id=model_id,\n",
    "    display_name=\"Newsgroup classification model\",\n",
    "    batch_size=16,\n",
    "    epoch_count=2,\n",
    ")\n",
    "\n",
    "print(model_id)"
   ]
  },
  {
   "cell_type": "markdown",
   "metadata": {
    "id": "NQ3YZ2MBubCY"
   },
   "source": [
    "This has created a tuning job that will run in the background. To inspect the progress of the tuning job, run this cell to plot the current status and loss curve. Once the status reaches `ACTIVE`, tuning is complete and the model is ready to use.\n",
    "\n",
    "Tuning jobs are queued, so it may look like no training steps have been taken initially but it will progress. Tuning can take upwards of 20 minutes, depending on factors like your dataset size and how busy the tuning infrastrature is.\n",
    "\n",
    "It is safe to stop this cell at any point. It will not stop the tuning job."
   ]
  },
  {
   "cell_type": "code",
   "execution_count": 29,
   "metadata": {
    "execution": {
     "iopub.execute_input": "2024-11-14T03:26:06.977375Z",
     "iopub.status.busy": "2024-11-14T03:26:06.976904Z",
     "iopub.status.idle": "2024-11-14T03:32:10.40729Z",
     "shell.execute_reply": "2024-11-14T03:32:10.405652Z",
     "shell.execute_reply.started": "2024-11-14T03:26:06.977333Z"
    },
    "id": "c4ef5f13692d",
    "trusted": true
   },
   "outputs": [
    {
     "name": "stdout",
     "output_type": "stream",
     "text": [
      "State.CREATING\n",
      "State.CREATING\n",
      "State.CREATING\n",
      "State.CREATING\n",
      "Done! The model is ACTIVE\n"
     ]
    },
    {
     "data": {
      "text/plain": [
       "<Axes: xlabel='step', ylabel='mean_loss'>"
      ]
     },
     "execution_count": 29,
     "metadata": {},
     "output_type": "execute_result"
    },
    {
     "data": {
      "image/png": "[encoded data removed]",
      "text/plain": [
       "<Figure size 640x480 with 1 Axes>"
      ]
     },
     "metadata": {},
     "output_type": "display_data"
    }
   ],
   "source": [
    "import time\n",
    "import seaborn as sns\n",
    "\n",
    "\n",
    "while (tuned_model := genai.get_tuned_model(f\"tunedModels/{model_id}\")).state.name != 'ACTIVE':\n",
    "\n",
    "    print(tuned_model.state)\n",
    "    time.sleep(60)\n",
    "\n",
    "print(f\"Done! The model is {tuned_model.state.name}\")\n",
    "\n",
    "# Plot the loss curve.\n",
    "snapshots = pd.DataFrame(tuned_model.tuning_task.snapshots)\n",
    "sns.lineplot(data=snapshots, x=\"step\", y=\"mean_loss\")\n"
   ]
  },
  {
   "cell_type": "markdown",
   "metadata": {
    "id": "9-qiIdK4u80z"
   },
   "source": [
    "Note that the `seaborn` module may output warnings containing `FutureWarning: use_inf_as_na option is deprecated`. These are expected and can be ignored."
   ]
  },
  {
   "cell_type": "markdown",
   "metadata": {
    "id": "9-qiIdK4u80z"
   },
   "source": [
    "## Use the new model\n",
    "\n",
    "Now a model is tuned, applying the model with custom data. Calling a model is specified using the `tunedModels/` prefix."
   ]
  },
  {
   "cell_type": "code",
   "execution_count": 30,
   "metadata": {
    "execution": {
     "iopub.execute_input": "2024-11-14T03:32:10.411522Z",
     "iopub.status.busy": "2024-11-14T03:32:10.410531Z",
     "iopub.status.idle": "2024-11-14T03:32:17.642646Z",
     "shell.execute_reply": "2024-11-14T03:32:17.641197Z",
     "shell.execute_reply.started": "2024-11-14T03:32:10.411455Z"
    },
    "id": "hyO2-MXLvM6a",
    "trusted": true
   },
   "outputs": [
    {
     "name": "stdout",
     "output_type": "stream",
     "text": [
      "sci.space\n"
     ]
    }
   ],
   "source": [
    "your_model = genai.GenerativeModel(f\"tunedModels/{model_id}\")\n",
    "\n",
    "new_text = \"\"\"\n",
    "First-timer looking to get out of here.\n",
    "\n",
    "Hi, I'm writing about my interest in travelling to the outer limits!\n",
    "\n",
    "What kind of craft can I buy? What is easiest to access from this 3rd rock?\n",
    "\n",
    "Let me know how to do that please.\n",
    "\"\"\"\n",
    "\n",
    "response = your_model.generate_content(new_text)\n",
    "print(response.text)"
   ]
  },
  {
   "cell_type": "markdown",
   "metadata": {
    "id": "xajLek9DySH_"
   },
   "source": [
    "### Evaluation\n",
    "\n",
    "Model outputs labels that correspond to those in the training data, and without any system instructions or prompting, which is already a great improvement. Then evaluating its performance on the test set.\n",
    "\n",
    "Note that there is no parallelism in this example; classifying the test sub-set will take a few minutes."
   ]
  },
  {
   "cell_type": "code",
   "execution_count": 31,
   "metadata": {
    "execution": {
     "iopub.execute_input": "2024-11-14T03:32:17.644483Z",
     "iopub.status.busy": "2024-11-14T03:32:17.644082Z",
     "iopub.status.idle": "2024-11-14T03:33:05.035916Z",
     "shell.execute_reply": "2024-11-14T03:33:05.034747Z",
     "shell.execute_reply.started": "2024-11-14T03:32:17.644443Z"
    },
    "id": "6T2Y3ZApvbMw",
    "trusted": true
   },
   "outputs": [
    {
     "data": {
      "application/vnd.jupyter.widget-view+json": {
       "model_id": "709dc73908114581a5b9d52502e52be8",
       "version_major": 2,
       "version_minor": 0
      },
      "text/plain": [
       "Output()"
      ]
     },
     "metadata": {},
     "output_type": "display_data"
    },
    {
     "name": "stderr",
     "output_type": "stream",
     "text": [
      "/home/kwonowk/code/kwonowk/Projects/google-gen-ai-course/.venv/lib/python3.10/site-packages/tqdm/std.py:885: TqdmExperimentalWarning: rich is experimental/alpha\n",
      "  t = cls(total=total, **tqdm_kwargs)\n"
     ]
    },
    {
     "data": {
      "text/html": [
       "<pre style=\"white-space:pre;overflow-x:auto;line-height:normal;font-family:Menlo,'DejaVu Sans Mono',consolas,'Courier New',monospace\"></pre>\n"
      ],
      "text/plain": []
     },
     "metadata": {},
     "output_type": "display_data"
    },
    {
     "name": "stdout",
     "output_type": "stream",
     "text": [
      "Accuracy: 90.62%\n"
     ]
    }
   ],
   "source": [
    "def classify_text(text: str) -> str:\n",
    "    \"\"\"Classify the provided text into a known newsgroup.\"\"\"\n",
    "    response = your_model.generate_content(text, request_options=retry_policy)\n",
    "    rc = response.candidates[0]\n",
    "\n",
    "    # Any errors, filters, recitation, etc we can mark as a general error\n",
    "    if rc.finish_reason.name != \"STOP\":\n",
    "        return \"(error)\"\n",
    "    else:\n",
    "        return rc.content.parts[0].text\n",
    "\n",
    "\n",
    "# The sampling here is just to minimise your quota usage. If you can, you should\n",
    "# evaluate the whole test set with `df_model_eval = df_test.copy()`.\n",
    "df_model_eval = sample_data(df_test, 4, '.*')\n",
    "\n",
    "\n",
    "df_model_eval[\"Prediction\"] = df_model_eval[\"Text\"].progress_apply(classify_text)\n",
    "\n",
    "accuracy = (df_model_eval[\"Class Name\"] == df_model_eval[\"Prediction\"]).sum() / len(df_model_eval)\n",
    "print(f\"Accuracy: {accuracy:.2%}\")"
   ]
  },
  {
   "cell_type": "markdown",
   "metadata": {},
   "source": [
    "Note that the accuracy from Gemini fine-tuned model is actually lower than deep learning technique (0.930)."
   ]
  },
  {
   "cell_type": "markdown",
   "metadata": {},
   "source": [
    "## Compare token usage\n",
    "\n",
    "AI Studio and the Gemini API provide model tuning at no cost, however normal limits and charges apply for *use* of a tuned model.\n",
    "\n",
    "The size of the input prompt and other generation config like system instructions, as well as the number of generated output tokens, all contribute to the overall cost of a request."
   ]
  },
  {
   "cell_type": "code",
   "execution_count": 32,
   "metadata": {
    "execution": {
     "iopub.execute_input": "2024-11-14T03:33:05.03965Z",
     "iopub.status.busy": "2024-11-14T03:33:05.039144Z",
     "iopub.status.idle": "2024-11-14T03:33:05.399134Z",
     "shell.execute_reply": "2024-11-14T03:33:05.397806Z",
     "shell.execute_reply.started": "2024-11-14T03:33:05.039596Z"
    },
    "trusted": true
   },
   "outputs": [
    {
     "name": "stdout",
     "output_type": "stream",
     "text": [
      "System instructed baseline model: 171 (input)\n",
      "Tuned model: 135 (input)\n",
      "Token savings: 26.67%\n"
     ]
    }
   ],
   "source": [
    "# Calculate the *input* cost of the baseline model with system instructions.\n",
    "sysint_tokens = instructed_model.count_tokens(sample_row).total_tokens\n",
    "print(f'System instructed baseline model: {sysint_tokens} (input)')\n",
    "\n",
    "# Calculate the input cost of the tuned model.\n",
    "tuned_tokens = your_model.count_tokens(sample_row).total_tokens\n",
    "print(f'Tuned model: {tuned_tokens} (input)')\n",
    "\n",
    "savings = (sysint_tokens - tuned_tokens) / tuned_tokens\n",
    "print(f'Token savings: {savings:.2%}')  # Note that this is only n=1."
   ]
  },
  {
   "cell_type": "markdown",
   "metadata": {},
   "source": [
    "The earlier verbose model also produced more output tokens than needed for this task."
   ]
  },
  {
   "cell_type": "code",
   "execution_count": 33,
   "metadata": {
    "execution": {
     "iopub.execute_input": "2024-11-14T03:33:05.401116Z",
     "iopub.status.busy": "2024-11-14T03:33:05.400739Z",
     "iopub.status.idle": "2024-11-14T03:33:06.369214Z",
     "shell.execute_reply": "2024-11-14T03:33:06.367883Z",
     "shell.execute_reply.started": "2024-11-14T03:33:05.401076Z"
    },
    "trusted": true
   },
   "outputs": [
    {
     "name": "stdout",
     "output_type": "stream",
     "text": [
      "Baseline (verbose) output tokens: 77\n",
      "Tuned output tokens: 4\n"
     ]
    }
   ],
   "source": [
    "baseline_token_output = baseline_response.usage_metadata.candidates_token_count\n",
    "print('Baseline (verbose) output tokens:', baseline_token_output)\n",
    "\n",
    "tuned_model_output = your_model.generate_content(sample_row)\n",
    "tuned_tokens_output = tuned_model_output.usage_metadata.candidates_token_count\n",
    "print('Tuned output tokens:', tuned_tokens_output)"
   ]
  },
  {
   "cell_type": "markdown",
   "metadata": {
    "id": "6c1204a5d0ab"
   },
   "source": [
    "## Next steps\n",
    "\n",
    "And check out the [fine-tuning tutorial](https://ai.google.dev/gemini-api/docs/model-tuning/tutorial?hl=en&lang=python) for another example that shows a tuned model extending beyond the training data to new, unseen inputs."
   ]
  }
 ],
 "metadata": {
  "colab": {
   "name": "day-4-fine-tuning-a-custom-model.ipynb",
   "toc_visible": true
  },
  "kaggle": {
   "accelerator": "none",
   "dataSources": [],
   "dockerImageVersionId": 30786,
   "isGpuEnabled": false,
   "isInternetEnabled": true,
   "language": "python",
   "sourceType": "notebook"
  },
  "kernelspec": {
   "display_name": ".venv",
   "language": "python",
   "name": "python3"
  },
  "language_info": {
   "codemirror_mode": {
    "name": "ipython",
    "version": 3
   },
   "file_extension": ".py",
   "mimetype": "text/x-python",
   "name": "python",
   "nbconvert_exporter": "python",
   "pygments_lexer": "ipython3",
   "version": "3.10.6"
  }
 },
 "nbformat": 4,
 "nbformat_minor": 4
}
